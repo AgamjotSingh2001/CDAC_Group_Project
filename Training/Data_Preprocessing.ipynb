{
 "cells": [
  {
   "cell_type": "markdown",
   "id": "225c9ea0",
   "metadata": {},
   "source": [
    "# Steps :-\n",
    "# 1. Read and check the dataset if it is balanced or not.\n",
    "# 2. Eleminate rows with word length less than 20.\n",
    "# 3. Balance the dataset with equal no. of samples from both the classes."
   ]
  },
  {
   "cell_type": "code",
   "execution_count": null,
   "id": "05576de3",
   "metadata": {},
   "outputs": [],
   "source": []
  },
  {
   "cell_type": "code",
   "execution_count": 1,
   "id": "337a1e59",
   "metadata": {},
   "outputs": [
    {
     "name": "stderr",
     "output_type": "stream",
     "text": [
      "C:\\Users\\ketan\\AppData\\Local\\Temp\\ipykernel_22200\\546601011.py:2: DeprecationWarning: \n",
      "Pyarrow will become a required dependency of pandas in the next major release of pandas (pandas 3.0),\n",
      "(to allow more performant data types, such as the Arrow string type, and better interoperability with other libraries)\n",
      "but was not found to be installed on your system.\n",
      "If this would cause problems for you,\n",
      "please provide us feedback at https://github.com/pandas-dev/pandas/issues/54466\n",
      "        \n",
      "  import pandas as pd\n"
     ]
    }
   ],
   "source": [
    "# Import Required Libraries\n",
    "\n",
    "import numpy as np\n",
    "\n",
    "import pandas as pd\n",
    "\n",
    "from sklearn.utils import resample\n",
    "\n",
    "import seaborn as sns\n",
    "\n",
    "import nltk\n",
    "from nltk.tokenize import word_tokenize"
   ]
  },
  {
   "cell_type": "code",
   "execution_count": 2,
   "id": "712b6ea0",
   "metadata": {},
   "outputs": [
    {
     "name": "stdout",
     "output_type": "stream",
     "text": [
      "CPU times: total: 15.1 s\n",
      "Wall time: 15.4 s\n"
     ]
    }
   ],
   "source": [
    "# Read Original Dataset\n",
    "\n",
    "toys = pd.read_csv(\"toys.csv\")"
   ]
  },
  {
   "cell_type": "code",
   "execution_count": 3,
   "id": "cc7c0391",
   "metadata": {},
   "outputs": [
    {
     "data": {
      "text/html": [
       "<div>\n",
       "<style scoped>\n",
       "    .dataframe tbody tr th:only-of-type {\n",
       "        vertical-align: middle;\n",
       "    }\n",
       "\n",
       "    .dataframe tbody tr th {\n",
       "        vertical-align: top;\n",
       "    }\n",
       "\n",
       "    .dataframe thead th {\n",
       "        text-align: right;\n",
       "    }\n",
       "</style>\n",
       "<table border=\"1\" class=\"dataframe\">\n",
       "  <thead>\n",
       "    <tr style=\"text-align: right;\">\n",
       "      <th></th>\n",
       "      <th>Unnamed: 0</th>\n",
       "      <th>reviewText</th>\n",
       "      <th>class</th>\n",
       "    </tr>\n",
       "  </thead>\n",
       "  <tbody>\n",
       "    <tr>\n",
       "      <th>0</th>\n",
       "      <td>0</td>\n",
       "      <td>I love these felt nursery rhyme characters and...</td>\n",
       "      <td>1</td>\n",
       "    </tr>\n",
       "    <tr>\n",
       "      <th>1</th>\n",
       "      <td>1</td>\n",
       "      <td>I see no directions for its use. Therefore I h...</td>\n",
       "      <td>0</td>\n",
       "    </tr>\n",
       "    <tr>\n",
       "      <th>2</th>\n",
       "      <td>2</td>\n",
       "      <td>This is a great tool for any teacher using the...</td>\n",
       "      <td>1</td>\n",
       "    </tr>\n",
       "    <tr>\n",
       "      <th>3</th>\n",
       "      <td>3</td>\n",
       "      <td>Great product, thank you! Our son loved the pu...</td>\n",
       "      <td>1</td>\n",
       "    </tr>\n",
       "    <tr>\n",
       "      <th>4</th>\n",
       "      <td>4</td>\n",
       "      <td>Although not as streamlined as the Algebra I m...</td>\n",
       "      <td>1</td>\n",
       "    </tr>\n",
       "  </tbody>\n",
       "</table>\n",
       "</div>"
      ],
      "text/plain": [
       "   Unnamed: 0                                         reviewText  class\n",
       "0           0  I love these felt nursery rhyme characters and...      1\n",
       "1           1  I see no directions for its use. Therefore I h...      0\n",
       "2           2  This is a great tool for any teacher using the...      1\n",
       "3           3  Great product, thank you! Our son loved the pu...      1\n",
       "4           4  Although not as streamlined as the Algebra I m...      1"
      ]
     },
     "execution_count": 3,
     "metadata": {},
     "output_type": "execute_result"
    }
   ],
   "source": [
    "# First five rows from the dataset\n",
    "\n",
    "toys.head()"
   ]
  },
  {
   "cell_type": "code",
   "execution_count": 4,
   "id": "2a10a686",
   "metadata": {},
   "outputs": [
    {
     "data": {
      "text/plain": [
       "<Axes: xlabel='count', ylabel='class'>"
      ]
     },
     "execution_count": 4,
     "metadata": {},
     "output_type": "execute_result"
    },
    {
     "data": {
      "image/png": "[encoded data removed]",
      "text/plain": [
       "<Figure size 640x480 with 1 Axes>"
      ]
     },
     "metadata": {},
     "output_type": "display_data"
    }
   ],
   "source": [
    "# Countplot to check weather the labels from the dataset are balanced or not\n",
    "\n",
    "sns.countplot(y=toys['class'])"
   ]
  },
  {
   "cell_type": "code",
   "execution_count": 7,
   "id": "57ececc8",
   "metadata": {},
   "outputs": [],
   "source": [
    "# As the labels are imbalanced so we need to balance them."
   ]
  },
  {
   "cell_type": "code",
   "execution_count": 5,
   "id": "7ade7aa5",
   "metadata": {},
   "outputs": [],
   "source": [
    "# As We are using LSTM (Bidirectional) and Pad sequencing for input to this model.\n",
    "# We need to restrict no of words to greater than 20 in review\n",
    "\n",
    "def tokenize(text):\n",
    "    ''' Takes String as an Input and \n",
    "        returns list of Tokens.\n",
    "    '''\n",
    "    \n",
    "    return word_tokenize(text)"
   ]
  },
  {
   "cell_type": "code",
   "execution_count": 6,
   "id": "152a1e00",
   "metadata": {},
   "outputs": [
    {
     "name": "stdout",
     "output_type": "stream",
     "text": [
      "CPU times: total: 41min 23s\n",
      "Wall time: 58min 51s\n"
     ]
    }
   ],
   "source": [
    "# Apply above function to each review from the dataset\n",
    "%%time\n",
    "toys['reviewText'] = toys['reviewText'].apply(tokenize)"
   ]
  },
  {
   "cell_type": "code",
   "execution_count": 7,
   "id": "5956dd9a",
   "metadata": {},
   "outputs": [
    {
     "data": {
      "text/html": [
       "<div>\n",
       "<style scoped>\n",
       "    .dataframe tbody tr th:only-of-type {\n",
       "        vertical-align: middle;\n",
       "    }\n",
       "\n",
       "    .dataframe tbody tr th {\n",
       "        vertical-align: top;\n",
       "    }\n",
       "\n",
       "    .dataframe thead th {\n",
       "        text-align: right;\n",
       "    }\n",
       "</style>\n",
       "<table border=\"1\" class=\"dataframe\">\n",
       "  <thead>\n",
       "    <tr style=\"text-align: right;\">\n",
       "      <th></th>\n",
       "      <th>Unnamed: 0</th>\n",
       "      <th>reviewText</th>\n",
       "      <th>class</th>\n",
       "    </tr>\n",
       "  </thead>\n",
       "  <tbody>\n",
       "    <tr>\n",
       "      <th>0</th>\n",
       "      <td>0</td>\n",
       "      <td>[I, love, these, felt, nursery, rhyme, charact...</td>\n",
       "      <td>1</td>\n",
       "    </tr>\n",
       "    <tr>\n",
       "      <th>1</th>\n",
       "      <td>1</td>\n",
       "      <td>[I, see, no, directions, for, its, use, ., The...</td>\n",
       "      <td>0</td>\n",
       "    </tr>\n",
       "    <tr>\n",
       "      <th>2</th>\n",
       "      <td>2</td>\n",
       "      <td>[This, is, a, great, tool, for, any, teacher, ...</td>\n",
       "      <td>1</td>\n",
       "    </tr>\n",
       "    <tr>\n",
       "      <th>3</th>\n",
       "      <td>3</td>\n",
       "      <td>[Great, product, ,, thank, you, !, Our, son, l...</td>\n",
       "      <td>1</td>\n",
       "    </tr>\n",
       "    <tr>\n",
       "      <th>4</th>\n",
       "      <td>4</td>\n",
       "      <td>[Although, not, as, streamlined, as, the, Alge...</td>\n",
       "      <td>1</td>\n",
       "    </tr>\n",
       "  </tbody>\n",
       "</table>\n",
       "</div>"
      ],
      "text/plain": [
       "   Unnamed: 0                                         reviewText  class\n",
       "0           0  [I, love, these, felt, nursery, rhyme, charact...      1\n",
       "1           1  [I, see, no, directions, for, its, use, ., The...      0\n",
       "2           2  [This, is, a, great, tool, for, any, teacher, ...      1\n",
       "3           3  [Great, product, ,, thank, you, !, Our, son, l...      1\n",
       "4           4  [Although, not, as, streamlined, as, the, Alge...      1"
      ]
     },
     "execution_count": 7,
     "metadata": {},
     "output_type": "execute_result"
    }
   ],
   "source": [
    "# First five Rows from the tokenized Dataset\n",
    "\n",
    "toys.head()"
   ]
  },
  {
   "cell_type": "code",
   "execution_count": null,
   "id": "34d2fe05",
   "metadata": {},
   "outputs": [],
   "source": []
  },
  {
   "cell_type": "code",
   "execution_count": 9,
   "id": "5b20c985",
   "metadata": {},
   "outputs": [],
   "source": [
    "# Store this tokenized dataset for future use\n",
    "\n",
    "# toys.to_csv(\"toys_token.csv\")"
   ]
  },
  {
   "cell_type": "code",
   "execution_count": null,
   "id": "0a606e09",
   "metadata": {
    "scrolled": true
   },
   "outputs": [],
   "source": []
  },
  {
   "cell_type": "code",
   "execution_count": 12,
   "id": "e6faa88e",
   "metadata": {},
   "outputs": [
    {
     "name": "stdout",
     "output_type": "stream",
     "text": [
      "CPU times: total: 15.1 s\n",
      "Wall time: 38.8 s\n"
     ]
    }
   ],
   "source": [
    "%%time\n",
    "# A new column named length is added which contains the length of list containing tokens\n",
    "\n",
    "toys['length'] = toys['reviewText'].apply(len)"
   ]
  },
  {
   "cell_type": "code",
   "execution_count": 13,
   "id": "bd628871",
   "metadata": {},
   "outputs": [
    {
     "data": {
      "text/html": [
       "<div>\n",
       "<style scoped>\n",
       "    .dataframe tbody tr th:only-of-type {\n",
       "        vertical-align: middle;\n",
       "    }\n",
       "\n",
       "    .dataframe tbody tr th {\n",
       "        vertical-align: top;\n",
       "    }\n",
       "\n",
       "    .dataframe thead th {\n",
       "        text-align: right;\n",
       "    }\n",
       "</style>\n",
       "<table border=\"1\" class=\"dataframe\">\n",
       "  <thead>\n",
       "    <tr style=\"text-align: right;\">\n",
       "      <th></th>\n",
       "      <th>Unnamed: 0</th>\n",
       "      <th>reviewText</th>\n",
       "      <th>class</th>\n",
       "      <th>length</th>\n",
       "    </tr>\n",
       "  </thead>\n",
       "  <tbody>\n",
       "    <tr>\n",
       "      <th>0</th>\n",
       "      <td>0</td>\n",
       "      <td>[I, love, these, felt, nursery, rhyme, charact...</td>\n",
       "      <td>1</td>\n",
       "      <td>130</td>\n",
       "    </tr>\n",
       "    <tr>\n",
       "      <th>1</th>\n",
       "      <td>1</td>\n",
       "      <td>[I, see, no, directions, for, its, use, ., The...</td>\n",
       "      <td>0</td>\n",
       "      <td>19</td>\n",
       "    </tr>\n",
       "    <tr>\n",
       "      <th>2</th>\n",
       "      <td>2</td>\n",
       "      <td>[This, is, a, great, tool, for, any, teacher, ...</td>\n",
       "      <td>1</td>\n",
       "      <td>35</td>\n",
       "    </tr>\n",
       "    <tr>\n",
       "      <th>3</th>\n",
       "      <td>3</td>\n",
       "      <td>[Great, product, ,, thank, you, !, Our, son, l...</td>\n",
       "      <td>1</td>\n",
       "      <td>27</td>\n",
       "    </tr>\n",
       "    <tr>\n",
       "      <th>4</th>\n",
       "      <td>4</td>\n",
       "      <td>[Although, not, as, streamlined, as, the, Alge...</td>\n",
       "      <td>1</td>\n",
       "      <td>27</td>\n",
       "    </tr>\n",
       "  </tbody>\n",
       "</table>\n",
       "</div>"
      ],
      "text/plain": [
       "   Unnamed: 0                                         reviewText  class  \\\n",
       "0           0  [I, love, these, felt, nursery, rhyme, charact...      1   \n",
       "1           1  [I, see, no, directions, for, its, use, ., The...      0   \n",
       "2           2  [This, is, a, great, tool, for, any, teacher, ...      1   \n",
       "3           3  [Great, product, ,, thank, you, !, Our, son, l...      1   \n",
       "4           4  [Although, not, as, streamlined, as, the, Alge...      1   \n",
       "\n",
       "   length  \n",
       "0     130  \n",
       "1      19  \n",
       "2      35  \n",
       "3      27  \n",
       "4      27  "
      ]
     },
     "execution_count": 13,
     "metadata": {},
     "output_type": "execute_result"
    }
   ],
   "source": [
    "# First five rows from the dataset after adding length column\n",
    "toys.head()"
   ]
  },
  {
   "cell_type": "markdown",
   "id": "1c43615a",
   "metadata": {},
   "source": [
    "# Balance the dataset\n",
    "### To use machine learning models except deep learning use only this step.\n",
    "### And For Deep Learning specificaly for RNN use all three steps from this file."
   ]
  },
  {
   "cell_type": "code",
   "execution_count": 14,
   "id": "59186c04",
   "metadata": {},
   "outputs": [],
   "source": [
    "def balance(dataframe):\n",
    "    '''Takes Dataframe as input and sorts data according to class\n",
    "        and then according to length of list( >= 20).\n",
    "        \n",
    "        Then Resample the dataset with discarding original values\n",
    "        and replacing with new ones.\n",
    "        \n",
    "        Then Concatenates to form the dataset with toatl of \n",
    "        6 Lakh rows.\n",
    "        \n",
    "        And returns the balanced Dataset\n",
    "    '''\n",
    "    \n",
    "    # Sort the data according to class ham.\n",
    "    ham_data = dataframe[dataframe['class'] == 0 ]\n",
    "    # From sorted Data eleminate entries with word length <= 20.\n",
    "    ham_data = ham_data[ham_data['length'] >= 20]\n",
    "    \n",
    "    # Sort the data according to class spam.\n",
    "    spam_data = dataframe[dataframe['class'] == 1 ]\n",
    "    # From sorted Data eleminate entries with word length <= 20.\n",
    "    spam_data = spam_data[spam_data['length'] >= 20]\n",
    "    \n",
    "    # No of samples of each class.\n",
    "    n_samples = 300000\n",
    "    \n",
    "    # Resample with random state 24 for both the classes.\n",
    "    ham_resampled = resample(ham_data, replace=False, n_samples=n_samples, random_state=24)\n",
    "    spam_resampled = resample(spam_data, replace=False, n_samples=n_samples, random_state=24)\n",
    "\n",
    "    # Concatenate both the classes to form single dataset\n",
    "    balanced_dataset = pd.concat([ham_resampled, spam_resampled])\n",
    "    \n",
    "    # Shuffle the dataset\n",
    "    balanced_dataset = balanced_dataset.sample(frac=1, random_state=24).reset_index(drop=True)\n",
    "    \n",
    "    return balanced_dataset"
   ]
  },
  {
   "cell_type": "code",
   "execution_count": 15,
   "id": "5bbb5b4f",
   "metadata": {},
   "outputs": [],
   "source": [
    "# Apply the above function to orginal dataset\n",
    "toys_data = balance(toys)"
   ]
  },
  {
   "cell_type": "code",
   "execution_count": 16,
   "id": "125dde81",
   "metadata": {},
   "outputs": [],
   "source": [
    "# From here onwards columns other than 'reviewText' and 'class' are useless so remove them.\n",
    "toys_data = toys_data[['reviewText','class']]"
   ]
  },
  {
   "cell_type": "code",
   "execution_count": 17,
   "id": "b0ef6a14",
   "metadata": {},
   "outputs": [
    {
     "data": {
      "text/plain": [
       "<Axes: xlabel='count', ylabel='class'>"
      ]
     },
     "execution_count": 17,
     "metadata": {},
     "output_type": "execute_result"
    },
    {
     "data": {
      "image/png": "[encoded data removed]",
      "text/plain": [
       "<Figure size 640x480 with 1 Axes>"
      ]
     },
     "metadata": {},
     "output_type": "display_data"
    }
   ],
   "source": [
    "# To check if the dataset is balanced or not\n",
    "sns.countplot(y=toys_data['class'])"
   ]
  },
  {
   "cell_type": "code",
   "execution_count": 18,
   "id": "55b0c77e",
   "metadata": {},
   "outputs": [],
   "source": [
    "# To save the balanced Dataset to use for training purposes\n",
    "toys_data.to_csv(\"toys_data.csv\")"
   ]
  },
  {
   "cell_type": "code",
   "execution_count": null,
   "id": "eaf4773e",
   "metadata": {},
   "outputs": [],
   "source": []
  }
 ],
 "metadata": {
  "kernelspec": {
   "display_name": "Cdac_Project",
   "language": "python",
   "name": "project"
  },
  "language_info": {
   "codemirror_mode": {
    "name": "ipython",
    "version": 3
   },
   "file_extension": ".py",
   "mimetype": "text/x-python",
   "name": "python",
   "nbconvert_exporter": "python",
   "pygments_lexer": "ipython3",
   "version": "3.11.7"
  }
 },
 "nbformat": 4,
 "nbformat_minor": 5
}

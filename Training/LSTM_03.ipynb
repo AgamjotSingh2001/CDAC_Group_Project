{
 "cells": [
  {
   "cell_type": "code",
   "execution_count": 47,
   "metadata": {},
   "outputs": [],
   "source": [
    "import tensorflow as tf\n",
    "import pandas as pd\n",
    "import numpy as np\n",
    "from sklearn.model_selection import train_test_split"
   ]
  },
  {
   "cell_type": "code",
   "execution_count": 8,
   "metadata": {},
   "outputs": [],
   "source": [
    "# model = tf.keras.models.load_model('LSTM_02_model_weights_3.h5')"
   ]
  },
  {
   "cell_type": "code",
   "execution_count": 12,
   "metadata": {},
   "outputs": [
    {
     "name": "stdout",
     "output_type": "stream",
     "text": [
      "                                    _id      reviewerID        asin  \\\n",
      "0  {'$oid': '5a13282b741a2384e879a620'}  A3C9CSW3TJITGT  0005069491   \n",
      "1  {'$oid': '5a13282b741a2384e879a621'}  A31POTIYCKSZ9G  0076561046   \n",
      "2  {'$oid': '5a13282b741a2384e879a622'}  A2GGHHME9B6W4O  0131358936   \n",
      "3  {'$oid': '5a13282b741a2384e879a61f'}   AMEVO2LY6VEJA  0000191639   \n",
      "4  {'$oid': '5a13282b741a2384e879a623'}  A1FSLDH43ORWZP  0133642984   \n",
      "\n",
      "    reviewerName helpful                                         reviewText  \\\n",
      "0          Renee  [0, 0]  I love these felt nursery rhyme characters and...   \n",
      "1  So CA Teacher  [0, 0]  I see no directions for its use. Therefore I h...   \n",
      "2     Dalilah G.  [0, 0]  This is a great tool for any teacher using the...   \n",
      "3  Nicole Soeder  [0, 0]  Great product, thank you! Our son loved the pu...   \n",
      "4  Dayna English  [0, 0]  Although not as streamlined as the Algebra I m...   \n",
      "\n",
      "   overall                                     summary  unixReviewTime  \\\n",
      "0        4  Charming characters but busy work required      1377561600   \n",
      "1        3                    No directions for use...      1404864000   \n",
      "2        5                                Great CD-ROM      1382400000   \n",
      "3        5                                     Puzzles      1388016000   \n",
      "4        5        Algebra II -- presentation materials      1374278400   \n",
      "\n",
      "    reviewTime        category  class  \n",
      "0  08 27, 2013  Toys_and_Games      1  \n",
      "1   07 9, 2014  Toys_and_Games      0  \n",
      "2  10 22, 2013  Toys_and_Games      1  \n",
      "3  12 26, 2013  Toys_and_Games      1  \n",
      "4  07 20, 2013  Toys_and_Games      1  \n"
     ]
    }
   ],
   "source": [
    "chunksize = 1000\n",
    "\n",
    "# Open the JSON file in chunks\n",
    "chunks = pd.read_json(\"E:\\Project\\Project_dataset\\Toys_and_Games.json\", lines=True, chunksize=chunksize)\n",
    "\n",
    "# Initialize an empty list to store the chunks\n",
    "chunk_list = []\n",
    "\n",
    "# Process each chunk\n",
    "for chunk in chunks:\n",
    "    # Append the current chunk to the chunk_list\n",
    "    chunk_list.append(chunk)\n",
    "\n",
    "# Concatenate the chunks into a single DataFrame\n",
    "combined_df = pd.concat(chunk_list, ignore_index=True)\n",
    "\n",
    "# Now you have a single DataFrame containing all the data from the JSON file\n",
    "print(combined_df.head())"
   ]
  },
  {
   "cell_type": "code",
   "execution_count": 13,
   "metadata": {},
   "outputs": [
    {
     "data": {
      "text/html": [
       "<div>\n",
       "<style scoped>\n",
       "    .dataframe tbody tr th:only-of-type {\n",
       "        vertical-align: middle;\n",
       "    }\n",
       "\n",
       "    .dataframe tbody tr th {\n",
       "        vertical-align: top;\n",
       "    }\n",
       "\n",
       "    .dataframe thead th {\n",
       "        text-align: right;\n",
       "    }\n",
       "</style>\n",
       "<table border=\"1\" class=\"dataframe\">\n",
       "  <thead>\n",
       "    <tr style=\"text-align: right;\">\n",
       "      <th></th>\n",
       "      <th>_id</th>\n",
       "      <th>reviewerID</th>\n",
       "      <th>asin</th>\n",
       "      <th>reviewerName</th>\n",
       "      <th>helpful</th>\n",
       "      <th>reviewText</th>\n",
       "      <th>overall</th>\n",
       "      <th>summary</th>\n",
       "      <th>unixReviewTime</th>\n",
       "      <th>reviewTime</th>\n",
       "      <th>category</th>\n",
       "      <th>class</th>\n",
       "    </tr>\n",
       "  </thead>\n",
       "  <tbody>\n",
       "    <tr>\n",
       "      <th>0</th>\n",
       "      <td>{'$oid': '5a13282b741a2384e879a620'}</td>\n",
       "      <td>A3C9CSW3TJITGT</td>\n",
       "      <td>0005069491</td>\n",
       "      <td>Renee</td>\n",
       "      <td>[0, 0]</td>\n",
       "      <td>I love these felt nursery rhyme characters and...</td>\n",
       "      <td>4</td>\n",
       "      <td>Charming characters but busy work required</td>\n",
       "      <td>1377561600</td>\n",
       "      <td>08 27, 2013</td>\n",
       "      <td>Toys_and_Games</td>\n",
       "      <td>1</td>\n",
       "    </tr>\n",
       "    <tr>\n",
       "      <th>1</th>\n",
       "      <td>{'$oid': '5a13282b741a2384e879a621'}</td>\n",
       "      <td>A31POTIYCKSZ9G</td>\n",
       "      <td>0076561046</td>\n",
       "      <td>So CA Teacher</td>\n",
       "      <td>[0, 0]</td>\n",
       "      <td>I see no directions for its use. Therefore I h...</td>\n",
       "      <td>3</td>\n",
       "      <td>No directions for use...</td>\n",
       "      <td>1404864000</td>\n",
       "      <td>07 9, 2014</td>\n",
       "      <td>Toys_and_Games</td>\n",
       "      <td>0</td>\n",
       "    </tr>\n",
       "    <tr>\n",
       "      <th>2</th>\n",
       "      <td>{'$oid': '5a13282b741a2384e879a622'}</td>\n",
       "      <td>A2GGHHME9B6W4O</td>\n",
       "      <td>0131358936</td>\n",
       "      <td>Dalilah G.</td>\n",
       "      <td>[0, 0]</td>\n",
       "      <td>This is a great tool for any teacher using the...</td>\n",
       "      <td>5</td>\n",
       "      <td>Great CD-ROM</td>\n",
       "      <td>1382400000</td>\n",
       "      <td>10 22, 2013</td>\n",
       "      <td>Toys_and_Games</td>\n",
       "      <td>1</td>\n",
       "    </tr>\n",
       "    <tr>\n",
       "      <th>3</th>\n",
       "      <td>{'$oid': '5a13282b741a2384e879a61f'}</td>\n",
       "      <td>AMEVO2LY6VEJA</td>\n",
       "      <td>0000191639</td>\n",
       "      <td>Nicole Soeder</td>\n",
       "      <td>[0, 0]</td>\n",
       "      <td>Great product, thank you! Our son loved the pu...</td>\n",
       "      <td>5</td>\n",
       "      <td>Puzzles</td>\n",
       "      <td>1388016000</td>\n",
       "      <td>12 26, 2013</td>\n",
       "      <td>Toys_and_Games</td>\n",
       "      <td>1</td>\n",
       "    </tr>\n",
       "    <tr>\n",
       "      <th>4</th>\n",
       "      <td>{'$oid': '5a13282b741a2384e879a623'}</td>\n",
       "      <td>A1FSLDH43ORWZP</td>\n",
       "      <td>0133642984</td>\n",
       "      <td>Dayna English</td>\n",
       "      <td>[0, 0]</td>\n",
       "      <td>Although not as streamlined as the Algebra I m...</td>\n",
       "      <td>5</td>\n",
       "      <td>Algebra II -- presentation materials</td>\n",
       "      <td>1374278400</td>\n",
       "      <td>07 20, 2013</td>\n",
       "      <td>Toys_and_Games</td>\n",
       "      <td>1</td>\n",
       "    </tr>\n",
       "    <tr>\n",
       "      <th>...</th>\n",
       "      <td>...</td>\n",
       "      <td>...</td>\n",
       "      <td>...</td>\n",
       "      <td>...</td>\n",
       "      <td>...</td>\n",
       "      <td>...</td>\n",
       "      <td>...</td>\n",
       "      <td>...</td>\n",
       "      <td>...</td>\n",
       "      <td>...</td>\n",
       "      <td>...</td>\n",
       "      <td>...</td>\n",
       "    </tr>\n",
       "    <tr>\n",
       "      <th>1997135</th>\n",
       "      <td>{'$oid': '5a132892741a2384e89c0ee4'}</td>\n",
       "      <td>A3SDSFPFY8WS8C</td>\n",
       "      <td>B00LRXEK4G</td>\n",
       "      <td>ben brightman \"benbrightman\"</td>\n",
       "      <td>[2, 4]</td>\n",
       "      <td>Donny looks awesome in his wizard outfit. It r...</td>\n",
       "      <td>4</td>\n",
       "      <td>Awesome toy Price not Awesome</td>\n",
       "      <td>1405209600</td>\n",
       "      <td>07 13, 2014</td>\n",
       "      <td>Toys_and_Games</td>\n",
       "      <td>1</td>\n",
       "    </tr>\n",
       "    <tr>\n",
       "      <th>1997136</th>\n",
       "      <td>{'$oid': '5a132892741a2384e89c0ee2'}</td>\n",
       "      <td>AVJ4N5LBKAOG5</td>\n",
       "      <td>B00LOYLHOE</td>\n",
       "      <td>Gary P.</td>\n",
       "      <td>[2, 3]</td>\n",
       "      <td>When I was a kid, I always heard, and sometime...</td>\n",
       "      <td>5</td>\n",
       "      <td>Excellent quality and fun to fly. Certainly wo...</td>\n",
       "      <td>1405123200</td>\n",
       "      <td>07 12, 2014</td>\n",
       "      <td>Toys_and_Games</td>\n",
       "      <td>1</td>\n",
       "    </tr>\n",
       "    <tr>\n",
       "      <th>1997137</th>\n",
       "      <td>{'$oid': '5a132892741a2384e89c0ee6'}</td>\n",
       "      <td>A3JB0C3QWIN61Q</td>\n",
       "      <td>B00LXACM5W</td>\n",
       "      <td>Moms of Three</td>\n",
       "      <td>[0, 0]</td>\n",
       "      <td>The kids had hours and hours of fun with this....</td>\n",
       "      <td>5</td>\n",
       "      <td>Great Set!</td>\n",
       "      <td>1405900800</td>\n",
       "      <td>07 21, 2014</td>\n",
       "      <td>Toys_and_Games</td>\n",
       "      <td>1</td>\n",
       "    </tr>\n",
       "    <tr>\n",
       "      <th>1997138</th>\n",
       "      <td>{'$oid': '5a132892741a2384e89c0ee5'}</td>\n",
       "      <td>AJ062DSRHW9RX</td>\n",
       "      <td>B00LXACM5W</td>\n",
       "      <td>Braindel Schwartz</td>\n",
       "      <td>[0, 0]</td>\n",
       "      <td>this pack of water shooters and splash balls a...</td>\n",
       "      <td>5</td>\n",
       "      <td>I bought a few packs for a birthday party and ...</td>\n",
       "      <td>1405814400</td>\n",
       "      <td>07 20, 2014</td>\n",
       "      <td>Toys_and_Games</td>\n",
       "      <td>1</td>\n",
       "    </tr>\n",
       "    <tr>\n",
       "      <th>1997139</th>\n",
       "      <td>{'$oid': '5a132892741a2384e89c0ee7'}</td>\n",
       "      <td>AVJ84HKPIGBMH</td>\n",
       "      <td>B00M0TTT5Q</td>\n",
       "      <td>Knd</td>\n",
       "      <td>[0, 0]</td>\n",
       "      <td>Awesome!!! These lights are SO BRIGHT!! Way be...</td>\n",
       "      <td>5</td>\n",
       "      <td>Awesome!!</td>\n",
       "      <td>1405987200</td>\n",
       "      <td>07 22, 2014</td>\n",
       "      <td>Toys_and_Games</td>\n",
       "      <td>1</td>\n",
       "    </tr>\n",
       "  </tbody>\n",
       "</table>\n",
       "<p>1997140 rows × 12 columns</p>\n",
       "</div>"
      ],
      "text/plain": [
       "                                          _id      reviewerID        asin  \\\n",
       "0        {'$oid': '5a13282b741a2384e879a620'}  A3C9CSW3TJITGT  0005069491   \n",
       "1        {'$oid': '5a13282b741a2384e879a621'}  A31POTIYCKSZ9G  0076561046   \n",
       "2        {'$oid': '5a13282b741a2384e879a622'}  A2GGHHME9B6W4O  0131358936   \n",
       "3        {'$oid': '5a13282b741a2384e879a61f'}   AMEVO2LY6VEJA  0000191639   \n",
       "4        {'$oid': '5a13282b741a2384e879a623'}  A1FSLDH43ORWZP  0133642984   \n",
       "...                                       ...             ...         ...   \n",
       "1997135  {'$oid': '5a132892741a2384e89c0ee4'}  A3SDSFPFY8WS8C  B00LRXEK4G   \n",
       "1997136  {'$oid': '5a132892741a2384e89c0ee2'}   AVJ4N5LBKAOG5  B00LOYLHOE   \n",
       "1997137  {'$oid': '5a132892741a2384e89c0ee6'}  A3JB0C3QWIN61Q  B00LXACM5W   \n",
       "1997138  {'$oid': '5a132892741a2384e89c0ee5'}   AJ062DSRHW9RX  B00LXACM5W   \n",
       "1997139  {'$oid': '5a132892741a2384e89c0ee7'}   AVJ84HKPIGBMH  B00M0TTT5Q   \n",
       "\n",
       "                         reviewerName helpful  \\\n",
       "0                               Renee  [0, 0]   \n",
       "1                       So CA Teacher  [0, 0]   \n",
       "2                          Dalilah G.  [0, 0]   \n",
       "3                       Nicole Soeder  [0, 0]   \n",
       "4                       Dayna English  [0, 0]   \n",
       "...                               ...     ...   \n",
       "1997135  ben brightman \"benbrightman\"  [2, 4]   \n",
       "1997136                       Gary P.  [2, 3]   \n",
       "1997137                 Moms of Three  [0, 0]   \n",
       "1997138             Braindel Schwartz  [0, 0]   \n",
       "1997139                           Knd  [0, 0]   \n",
       "\n",
       "                                                reviewText  overall  \\\n",
       "0        I love these felt nursery rhyme characters and...        4   \n",
       "1        I see no directions for its use. Therefore I h...        3   \n",
       "2        This is a great tool for any teacher using the...        5   \n",
       "3        Great product, thank you! Our son loved the pu...        5   \n",
       "4        Although not as streamlined as the Algebra I m...        5   \n",
       "...                                                    ...      ...   \n",
       "1997135  Donny looks awesome in his wizard outfit. It r...        4   \n",
       "1997136  When I was a kid, I always heard, and sometime...        5   \n",
       "1997137  The kids had hours and hours of fun with this....        5   \n",
       "1997138  this pack of water shooters and splash balls a...        5   \n",
       "1997139  Awesome!!! These lights are SO BRIGHT!! Way be...        5   \n",
       "\n",
       "                                                   summary  unixReviewTime  \\\n",
       "0               Charming characters but busy work required      1377561600   \n",
       "1                                 No directions for use...      1404864000   \n",
       "2                                             Great CD-ROM      1382400000   \n",
       "3                                                  Puzzles      1388016000   \n",
       "4                     Algebra II -- presentation materials      1374278400   \n",
       "...                                                    ...             ...   \n",
       "1997135                      Awesome toy Price not Awesome      1405209600   \n",
       "1997136  Excellent quality and fun to fly. Certainly wo...      1405123200   \n",
       "1997137                                         Great Set!      1405900800   \n",
       "1997138  I bought a few packs for a birthday party and ...      1405814400   \n",
       "1997139                                          Awesome!!      1405987200   \n",
       "\n",
       "          reviewTime        category  class  \n",
       "0        08 27, 2013  Toys_and_Games      1  \n",
       "1         07 9, 2014  Toys_and_Games      0  \n",
       "2        10 22, 2013  Toys_and_Games      1  \n",
       "3        12 26, 2013  Toys_and_Games      1  \n",
       "4        07 20, 2013  Toys_and_Games      1  \n",
       "...              ...             ...    ...  \n",
       "1997135  07 13, 2014  Toys_and_Games      1  \n",
       "1997136  07 12, 2014  Toys_and_Games      1  \n",
       "1997137  07 21, 2014  Toys_and_Games      1  \n",
       "1997138  07 20, 2014  Toys_and_Games      1  \n",
       "1997139  07 22, 2014  Toys_and_Games      1  \n",
       "\n",
       "[1997140 rows x 12 columns]"
      ]
     },
     "execution_count": 13,
     "metadata": {},
     "output_type": "execute_result"
    }
   ],
   "source": [
    "combined_df"
   ]
  },
  {
   "cell_type": "code",
   "execution_count": 14,
   "metadata": {},
   "outputs": [],
   "source": [
    "x = combined_df['reviewText']\n",
    "y = combined_df['class']"
   ]
  },
  {
   "cell_type": "code",
   "execution_count": 15,
   "metadata": {},
   "outputs": [],
   "source": [
    "text_dataset = tf.data.Dataset.from_tensor_slices(x)"
   ]
  },
  {
   "cell_type": "code",
   "execution_count": 35,
   "metadata": {},
   "outputs": [],
   "source": [
    "X_train, X_test, y_train, y_test = train_test_split(x, y, test_size=0.2, random_state=42)"
   ]
  },
  {
   "cell_type": "code",
   "execution_count": 16,
   "metadata": {},
   "outputs": [],
   "source": [
    "max_features = 10000\n",
    "max_len = 1000\n",
    "vectorize_layer = tf.keras.layers.TextVectorization(\n",
    " max_tokens=max_features,\n",
    " output_mode='int',\n",
    " output_sequence_length=max_len)\n",
    "\n",
    "vectorize_layer.adapt(text_dataset.batch(64))"
   ]
  },
  {
   "cell_type": "code",
   "execution_count": 17,
   "metadata": {},
   "outputs": [],
   "source": [
    "model = tf.keras.Sequential([\n",
    "    vectorize_layer,\n",
    "    tf.keras.layers.Embedding(\n",
    "        input_dim=len(vectorize_layer.get_vocabulary()),\n",
    "        output_dim=64,\n",
    "        # Use masking to handle the variable sequence lengths\n",
    "        mask_zero=True),\n",
    "    tf.keras.layers.Bidirectional(tf.keras.layers.LSTM(64)),\n",
    "    tf.keras.layers.Dense(64, activation='relu'),\n",
    "    tf.keras.layers.Dense(1)\n",
    "])"
   ]
  },
  {
   "cell_type": "code",
   "execution_count": 18,
   "metadata": {},
   "outputs": [],
   "source": [
    "model.build((None,len(vectorize_layer.get_vocabulary()) ))"
   ]
  },
  {
   "cell_type": "code",
   "execution_count": 32,
   "metadata": {},
   "outputs": [
    {
     "data": {
      "text/plain": [
       "<tensorflow.python.checkpoint.checkpoint.CheckpointLoadStatus at 0x143990033a0>"
      ]
     },
     "execution_count": 32,
     "metadata": {},
     "output_type": "execute_result"
    }
   ],
   "source": [
    "model.load_weights(\"LSTM_02_model_weights_3.h1\")"
   ]
  },
  {
   "cell_type": "code",
   "execution_count": 33,
   "metadata": {},
   "outputs": [
    {
     "name": "stdout",
     "output_type": "stream",
     "text": [
      "Model: \"sequential_1\"\n",
      "_________________________________________________________________\n",
      " Layer (type)                Output Shape              Param #   \n",
      "=================================================================\n",
      " text_vectorization (TextVec  (None, 1000)             0         \n",
      " torization)                                                     \n",
      "                                                                 \n",
      " embedding (Embedding)       (None, 1000, 64)          640000    \n",
      "                                                                 \n",
      " bidirectional (Bidirectiona  (None, 128)              66048     \n",
      " l)                                                              \n",
      "                                                                 \n",
      " dense (Dense)               (None, 64)                8256      \n",
      "                                                                 \n",
      " dense_1 (Dense)             (None, 1)                 65        \n",
      "                                                                 \n",
      "=================================================================\n",
      "Total params: 714,369\n",
      "Trainable params: 714,369\n",
      "Non-trainable params: 0\n",
      "_________________________________________________________________\n"
     ]
    }
   ],
   "source": [
    "model.summary()"
   ]
  },
  {
   "cell_type": "code",
   "execution_count": 37,
   "metadata": {},
   "outputs": [],
   "source": [
    "# Compile Model\n",
    "model.compile(loss='binary_crossentropy', optimizer='adam', metrics=['accuracy'])"
   ]
  },
  {
   "cell_type": "code",
   "execution_count": 38,
   "metadata": {},
   "outputs": [
    {
     "name": "stdout",
     "output_type": "stream",
     "text": [
      "12483/12483 [==============================] - 306s 24ms/step - loss: 0.2852 - accuracy: 0.9242\n",
      "Test Accuracy: 0.924159049987793\n"
     ]
    }
   ],
   "source": [
    "# Model Evaluation\n",
    "loss, accuracy = model.evaluate(X_test, y_test)\n",
    "print(\"Test Accuracy:\", accuracy)"
   ]
  },
  {
   "cell_type": "code",
   "execution_count": 39,
   "metadata": {},
   "outputs": [
    {
     "name": "stderr",
     "output_type": "stream",
     "text": [
      "WARNING:absl:Found untraced functions such as lstm_cell_1_layer_call_fn, lstm_cell_1_layer_call_and_return_conditional_losses, lstm_cell_2_layer_call_fn, lstm_cell_2_layer_call_and_return_conditional_losses while saving (showing 4 of 4). These functions will not be directly callable after loading.\n"
     ]
    },
    {
     "name": "stdout",
     "output_type": "stream",
     "text": [
      "INFO:tensorflow:Assets written to: ram://a36c9f09-3085-4408-ab1a-56bd19502bdb/assets\n"
     ]
    },
    {
     "name": "stderr",
     "output_type": "stream",
     "text": [
      "INFO:tensorflow:Assets written to: ram://a36c9f09-3085-4408-ab1a-56bd19502bdb/assets\n"
     ]
    },
    {
     "data": {
      "text/plain": [
       "['LSTM_BIDIRECTIONAL.joblib']"
      ]
     },
     "execution_count": 39,
     "metadata": {},
     "output_type": "execute_result"
    }
   ],
   "source": [
    "import joblib \n",
    "joblib.dump(model, 'LSTM_BIDIRECTIONAL.joblib')"
   ]
  },
  {
   "cell_type": "markdown",
   "metadata": {},
   "source": [
    "# Model training on data of Cellphone category"
   ]
  },
  {
   "cell_type": "code",
   "execution_count": 40,
   "metadata": {},
   "outputs": [],
   "source": [
    "cellphone = pd.read_csv('E:\\Git Demo\\CDAC_Group_Project\\Project_dataset\\cellphone.csv')"
   ]
  },
  {
   "cell_type": "code",
   "execution_count": 41,
   "metadata": {},
   "outputs": [
    {
     "data": {
      "text/html": [
       "<div>\n",
       "<style scoped>\n",
       "    .dataframe tbody tr th:only-of-type {\n",
       "        vertical-align: middle;\n",
       "    }\n",
       "\n",
       "    .dataframe tbody tr th {\n",
       "        vertical-align: top;\n",
       "    }\n",
       "\n",
       "    .dataframe thead th {\n",
       "        text-align: right;\n",
       "    }\n",
       "</style>\n",
       "<table border=\"1\" class=\"dataframe\">\n",
       "  <thead>\n",
       "    <tr style=\"text-align: right;\">\n",
       "      <th></th>\n",
       "      <th>Unnamed: 0</th>\n",
       "      <th>reviewText</th>\n",
       "      <th>overall</th>\n",
       "      <th>summary</th>\n",
       "      <th>class</th>\n",
       "    </tr>\n",
       "  </thead>\n",
       "  <tbody>\n",
       "    <tr>\n",
       "      <th>0</th>\n",
       "      <td>0</td>\n",
       "      <td>This is a  well fitting case that really helps...</td>\n",
       "      <td>4</td>\n",
       "      <td>Nice fit and very protective</td>\n",
       "      <td>1</td>\n",
       "    </tr>\n",
       "    <tr>\n",
       "      <th>1</th>\n",
       "      <td>1</td>\n",
       "      <td>This is my first IEM which are not UE. I love ...</td>\n",
       "      <td>3</td>\n",
       "      <td>A pretty good earphone with a terrible microphone</td>\n",
       "      <td>0</td>\n",
       "    </tr>\n",
       "    <tr>\n",
       "      <th>2</th>\n",
       "      <td>2</td>\n",
       "      <td>I am satisfied, but placing my phone in a pant...</td>\n",
       "      <td>4</td>\n",
       "      <td>As advertised, fits my Iphone 4S perfectly. It...</td>\n",
       "      <td>1</td>\n",
       "    </tr>\n",
       "    <tr>\n",
       "      <th>3</th>\n",
       "      <td>3</td>\n",
       "      <td>This case can be found listed as 7.25&amp;#34; hig...</td>\n",
       "      <td>3</td>\n",
       "      <td>Size of case WRONG</td>\n",
       "      <td>0</td>\n",
       "    </tr>\n",
       "    <tr>\n",
       "      <th>4</th>\n",
       "      <td>4</td>\n",
       "      <td>This is very nice and very smart.  The other e...</td>\n",
       "      <td>4</td>\n",
       "      <td>Does the job, but too expensive</td>\n",
       "      <td>1</td>\n",
       "    </tr>\n",
       "  </tbody>\n",
       "</table>\n",
       "</div>"
      ],
      "text/plain": [
       "   Unnamed: 0                                         reviewText  overall  \\\n",
       "0           0  This is a  well fitting case that really helps...        4   \n",
       "1           1  This is my first IEM which are not UE. I love ...        3   \n",
       "2           2  I am satisfied, but placing my phone in a pant...        4   \n",
       "3           3  This case can be found listed as 7.25&#34; hig...        3   \n",
       "4           4  This is very nice and very smart.  The other e...        4   \n",
       "\n",
       "                                             summary  class  \n",
       "0                       Nice fit and very protective      1  \n",
       "1  A pretty good earphone with a terrible microphone      0  \n",
       "2  As advertised, fits my Iphone 4S perfectly. It...      1  \n",
       "3                                 Size of case WRONG      0  \n",
       "4                    Does the job, but too expensive      1  "
      ]
     },
     "execution_count": 41,
     "metadata": {},
     "output_type": "execute_result"
    }
   ],
   "source": [
    "cellphone.head()"
   ]
  },
  {
   "cell_type": "code",
   "execution_count": 42,
   "metadata": {},
   "outputs": [],
   "source": [
    "x1 = cellphone['reviewText']\n",
    "y1 = cellphone['class']"
   ]
  },
  {
   "cell_type": "code",
   "execution_count": 43,
   "metadata": {},
   "outputs": [],
   "source": [
    "text_dataset = tf.data.Dataset.from_tensor_slices(x1)"
   ]
  },
  {
   "cell_type": "code",
   "execution_count": 44,
   "metadata": {},
   "outputs": [],
   "source": [
    "max_features = 10000\n",
    "max_len = 1000\n",
    "vectorize_layer = tf.keras.layers.TextVectorization(\n",
    " max_tokens=max_features,\n",
    " output_mode='int',\n",
    " output_sequence_length=max_len)\n",
    "\n",
    "vectorize_layer.adapt(text_dataset.batch(64))"
   ]
  },
  {
   "cell_type": "code",
   "execution_count": 45,
   "metadata": {},
   "outputs": [],
   "source": [
    "X_train1, X_test1, y_train1, y_test1 = train_test_split(x1, y1, test_size=0.2, random_state=42)"
   ]
  },
  {
   "cell_type": "code",
   "execution_count": 48,
   "metadata": {},
   "outputs": [
    {
     "data": {
      "text/plain": [
       "array(['', '[UNK]', 'the', 'i', 'it', 'and', 'to', 'a', 'is', 'this',\n",
       "       'my', 'for', 'of', 'phone', 'that', 'in', 'on', 'not', 'with',\n",
       "       'was'], dtype='<U17')"
      ]
     },
     "execution_count": 48,
     "metadata": {},
     "output_type": "execute_result"
    }
   ],
   "source": [
    "vocab = np.array(vectorize_layer.get_vocabulary())\n",
    "vocab[:20]"
   ]
  },
  {
   "cell_type": "code",
   "execution_count": 50,
   "metadata": {},
   "outputs": [
    {
     "name": "stdout",
     "output_type": "stream",
     "text": [
      "Epoch 1/10\n",
      "3750/3750 [==============================] - 258s 68ms/step - loss: 0.4042 - accuracy: 0.8604 - val_loss: 0.3646 - val_accuracy: 0.8731\n",
      "Epoch 2/10\n",
      "3750/3750 [==============================] - 246s 66ms/step - loss: 0.3680 - accuracy: 0.8724 - val_loss: 0.3442 - val_accuracy: 0.8822\n",
      "Epoch 3/10\n",
      "3750/3750 [==============================] - 246s 66ms/step - loss: 0.3572 - accuracy: 0.8780 - val_loss: 0.3984 - val_accuracy: 0.8692\n",
      "Epoch 4/10\n",
      "3750/3750 [==============================] - 245s 65ms/step - loss: 0.3604 - accuracy: 0.8785 - val_loss: 0.3695 - val_accuracy: 0.8876\n",
      "Epoch 5/10\n",
      "3750/3750 [==============================] - 248s 66ms/step - loss: 0.3308 - accuracy: 0.8907 - val_loss: 0.3751 - val_accuracy: 0.8882\n",
      "Epoch 6/10\n",
      "3750/3750 [==============================] - 245s 65ms/step - loss: 0.3314 - accuracy: 0.8866 - val_loss: 0.3574 - val_accuracy: 0.8824\n",
      "Epoch 7/10\n",
      "3750/3750 [==============================] - 247s 66ms/step - loss: 0.3399 - accuracy: 0.8858 - val_loss: 0.3421 - val_accuracy: 0.8814\n",
      "Epoch 8/10\n",
      "3750/3750 [==============================] - 248s 66ms/step - loss: 0.3224 - accuracy: 0.8954 - val_loss: 0.3585 - val_accuracy: 0.8911\n",
      "Epoch 9/10\n",
      "3750/3750 [==============================] - 247s 66ms/step - loss: 0.3359 - accuracy: 0.8884 - val_loss: 0.3883 - val_accuracy: 0.8891\n",
      "Epoch 10/10\n",
      "3750/3750 [==============================] - 246s 65ms/step - loss: 0.3365 - accuracy: 0.8870 - val_loss: 0.3962 - val_accuracy: 0.8820\n"
     ]
    }
   ],
   "source": [
    "#Model training\n",
    "batch_size = 64\n",
    "epochs = 10\n",
    "history = model.fit(X_train1,y_train1,batch_size=batch_size, epochs=epochs, validation_data=(X_test1, y_test1))"
   ]
  },
  {
   "cell_type": "markdown",
   "metadata": {},
   "source": [
    "# Model training on data of clothes category "
   ]
  },
  {
   "cell_type": "code",
   "execution_count": null,
   "metadata": {},
   "outputs": [],
   "source": [
    "clothes = pd.read_csv(r'E:\\Git Demo\\CDAC_Group_Project\\Project_dataset\\clothes.csv')\n",
    "clothes"
   ]
  },
  {
   "cell_type": "code",
   "execution_count": null,
   "metadata": {},
   "outputs": [],
   "source": [
    "x2 = clothes['reviewText']\n",
    "y2 = clothes['class']"
   ]
  },
  {
   "cell_type": "code",
   "execution_count": null,
   "metadata": {},
   "outputs": [],
   "source": [
    "text_dataset = tf.data.Dataset.from_tensor_slices(x1)\n",
    "\n",
    "max_features = 10000\n",
    "max_len = 1000\n",
    "vectorize_layer = tf.keras.layers.TextVectorization(\n",
    " max_tokens=max_features,\n",
    " output_mode='int',\n",
    " output_sequence_length=max_len)\n",
    "\n",
    "vectorize_layer.adapt(text_dataset.batch(64))"
   ]
  },
  {
   "cell_type": "code",
   "execution_count": null,
   "metadata": {},
   "outputs": [],
   "source": [
    "X_train2, X_test2, y_train2, y_test2 = train_test_split(x2, y2, test_size=0.2, random_state=42)"
   ]
  },
  {
   "cell_type": "code",
   "execution_count": null,
   "metadata": {},
   "outputs": [],
   "source": [
    "#Model training\n",
    "batch_size = 64\n",
    "epochs = 10\n",
    "history = model.fit(X_train1,y_train1,batch_size=batch_size, epochs=epochs, validation_data=(X_test1, y_test1))"
   ]
  },
  {
   "cell_type": "code",
   "execution_count": null,
   "metadata": {},
   "outputs": [],
   "source": []
  },
  {
   "cell_type": "code",
   "execution_count": null,
   "metadata": {},
   "outputs": [],
   "source": []
  }
 ],
 "metadata": {
  "kernelspec": {
   "display_name": "tf",
   "language": "python",
   "name": "python3"
  },
  "language_info": {
   "codemirror_mode": {
    "name": "ipython",
    "version": 3
   },
   "file_extension": ".py",
   "mimetype": "text/x-python",
   "name": "python",
   "nbconvert_exporter": "python",
   "pygments_lexer": "ipython3",
   "version": "3.9.18"
  }
 },
 "nbformat": 4,
 "nbformat_minor": 2
}

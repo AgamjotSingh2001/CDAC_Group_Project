{
 "cells": [
  {
   "cell_type": "code",
   "execution_count": 1,
   "metadata": {},
   "outputs": [],
   "source": [
    "# IMporting libraries\n",
    "import tensorflow as tf\n",
    "import pandas as pd\n",
    "import numpy as np\n",
    "from sklearn.model_selection import train_test_split"
   ]
  },
  {
   "cell_type": "code",
   "execution_count": 2,
   "metadata": {},
   "outputs": [],
   "source": [
    "# Reading the data from combined csv file\n",
    "df = pd.read_csv(r'E:\\Git Demo\\CDAC_Group_Project\\Project_dataset\\combined.csv')"
   ]
  },
  {
   "cell_type": "code",
   "execution_count": 3,
   "metadata": {},
   "outputs": [
    {
     "data": {
      "text/html": [
       "<div>\n",
       "<style scoped>\n",
       "    .dataframe tbody tr th:only-of-type {\n",
       "        vertical-align: middle;\n",
       "    }\n",
       "\n",
       "    .dataframe tbody tr th {\n",
       "        vertical-align: top;\n",
       "    }\n",
       "\n",
       "    .dataframe thead th {\n",
       "        text-align: right;\n",
       "    }\n",
       "</style>\n",
       "<table border=\"1\" class=\"dataframe\">\n",
       "  <thead>\n",
       "    <tr style=\"text-align: right;\">\n",
       "      <th></th>\n",
       "      <th>Unnamed: 0</th>\n",
       "      <th>reviewText</th>\n",
       "      <th>class</th>\n",
       "    </tr>\n",
       "  </thead>\n",
       "  <tbody>\n",
       "    <tr>\n",
       "      <th>0</th>\n",
       "      <td>0</td>\n",
       "      <td>This is a  well fitting case that really helps...</td>\n",
       "      <td>1</td>\n",
       "    </tr>\n",
       "    <tr>\n",
       "      <th>1</th>\n",
       "      <td>1</td>\n",
       "      <td>This is my first IEM which are not UE. I love ...</td>\n",
       "      <td>0</td>\n",
       "    </tr>\n",
       "    <tr>\n",
       "      <th>2</th>\n",
       "      <td>2</td>\n",
       "      <td>I am satisfied, but placing my phone in a pant...</td>\n",
       "      <td>1</td>\n",
       "    </tr>\n",
       "    <tr>\n",
       "      <th>3</th>\n",
       "      <td>3</td>\n",
       "      <td>This case can be found listed as 7.25&amp;#34; hig...</td>\n",
       "      <td>0</td>\n",
       "    </tr>\n",
       "    <tr>\n",
       "      <th>4</th>\n",
       "      <td>4</td>\n",
       "      <td>This is very nice and very smart.  The other e...</td>\n",
       "      <td>1</td>\n",
       "    </tr>\n",
       "  </tbody>\n",
       "</table>\n",
       "</div>"
      ],
      "text/plain": [
       "   Unnamed: 0                                         reviewText  class\n",
       "0           0  This is a  well fitting case that really helps...      1\n",
       "1           1  This is my first IEM which are not UE. I love ...      0\n",
       "2           2  I am satisfied, but placing my phone in a pant...      1\n",
       "3           3  This case can be found listed as 7.25&#34; hig...      0\n",
       "4           4  This is very nice and very smart.  The other e...      1"
      ]
     },
     "execution_count": 3,
     "metadata": {},
     "output_type": "execute_result"
    }
   ],
   "source": [
    "# checking the data\n",
    "df.head()"
   ]
  },
  {
   "cell_type": "code",
   "execution_count": 4,
   "metadata": {},
   "outputs": [
    {
     "data": {
      "text/plain": [
       "<bound method NDFrame.describe of          Unnamed: 0                                         reviewText  class\n",
       "0                 0  This is a  well fitting case that really helps...      1\n",
       "1                 1  This is my first IEM which are not UE. I love ...      0\n",
       "2                 2  I am satisfied, but placing my phone in a pant...      1\n",
       "3                 3  This case can be found listed as 7.25&#34; hig...      0\n",
       "4                 4  This is very nice and very smart.  The other e...      1\n",
       "...             ...                                                ...    ...\n",
       "1799995     1799995  There is a ton of bounce outs; at times it doe...      0\n",
       "1799996     1799996  My Granddaughter wanted to get locked journals...      1\n",
       "1799997     1799997  We bought 2 of these, one for our 3yr old son ...      0\n",
       "1799998     1799998  I do not have &#34;hands on&#34; experience wi...      0\n",
       "1799999     1799999  On one hand I was glad my order arrived quickl...      0\n",
       "\n",
       "[1800000 rows x 3 columns]>"
      ]
     },
     "execution_count": 4,
     "metadata": {},
     "output_type": "execute_result"
    }
   ],
   "source": [
    "df.describe"
   ]
  },
  {
   "cell_type": "code",
   "execution_count": 5,
   "metadata": {},
   "outputs": [],
   "source": [
    "# Separating x and y values\n",
    "x = df['reviewText']\n",
    "y = df['class']"
   ]
  },
  {
   "cell_type": "code",
   "execution_count": 6,
   "metadata": {},
   "outputs": [],
   "source": [
    "# The tf.data.Dataset.from_tensor_slices method in TensorFlow is used to create a tf.data.Dataset object from tensors where each tensor \n",
    "# corresponds to a slice of the input data. This method is particularly useful when you have a set of tensors that represent slices of a larger \n",
    "# dataset and you want to combine them into a single dataset that can be iterated over in batches.\n",
    "\n",
    "text_dataset = tf.data.Dataset.from_tensor_slices(x)"
   ]
  },
  {
   "cell_type": "markdown",
   "metadata": {},
   "source": [
    "The tf.keras.layers.TextVectorization layer is a preprocessing layer designed to map text features to integer sequences. It is particularly useful for handling natural language inputs in machine learning models. The max_tokens parameter specifies the maximum size of the vocabulary, output_mode determines the type of output (integer sequences in this case), and output_sequence_length sets the length to which the outputs will be padded.\n",
    "\n",
    "In the provided code snippet, max_features is set to 10000, which means the vocabulary size will be limited to 10000 unique tokens. max_len is set to 1000, indicating that the output sequences will be padded to a length of 1000 tokens.\n",
    "\n",
    "The adapt method is called on the vectorize_layer with text_dataset.batch(64) as its argument. This method analyzes the dataset, determines the frequency of individual string values, and creates a vocabulary from the most frequent terms. The batch size of 64 suggests that the adaptation process will go through the dataset in chunks of 64 samples at a time, which can be more memory-efficient for large datasets.\n",
    "\n",
    "Here's a breakdown of the key aspects of the TextVectorization layer:\n",
    "\n",
    "Standardization: By default, the layer lowercases the text and removes punctuation.\n",
    "Tokenization: The layer splits the text on whitespace into tokens.\n",
    "Vocabulary Building: During the adapt phase, the layer learns a vocabulary based on the frequency of tokens in the dataset.\n",
    "Output Mode: The output_mode='int' indicates that the layer will output integer token indices.\n",
    "Sequence Length: The output_sequence_length=max_len ensures that the output sequences are padded or truncated to max_len tokens.\n",
    "After adapting, the layer is ready to transform text into integer sequences, which can then be used as input for models such as embeddings or recurrent neural networks."
   ]
  },
  {
   "cell_type": "code",
   "execution_count": 7,
   "metadata": {},
   "outputs": [],
   "source": [
    "max_features = 10000\n",
    "max_len = 1000\n",
    "vectorize_layer = tf.keras.layers.TextVectorization(\n",
    " max_tokens=max_features,\n",
    " output_mode='int',\n",
    " output_sequence_length=max_len)\n",
    "\n",
    "vectorize_layer.adapt(text_dataset.batch(64))"
   ]
  },
  {
   "cell_type": "code",
   "execution_count": 8,
   "metadata": {},
   "outputs": [],
   "source": [
    "# Splitting the Data into training and testing datasets\n",
    "X_train, X_test, y_train, y_test = train_test_split(x, y, test_size=0.2, random_state=42)"
   ]
  },
  {
   "cell_type": "code",
   "execution_count": 9,
   "metadata": {},
   "outputs": [
    {
     "data": {
      "text/plain": [
       "array(['', '[UNK]', 'the', 'i', 'and', 'to', 'it', 'a', 'is', 'this',\n",
       "       'of', 'for', 'my', 'in', 'that', 'with', 'on', 'not', 'was', 'but'],\n",
       "      dtype='<U15')"
      ]
     },
     "execution_count": 9,
     "metadata": {},
     "output_type": "execute_result"
    }
   ],
   "source": [
    "#Checking the first 20 elements of the vocabulary\n",
    "vocab = np.array(vectorize_layer.get_vocabulary())\n",
    "vocab[:20]"
   ]
  },
  {
   "cell_type": "code",
   "execution_count": 14,
   "metadata": {},
   "outputs": [],
   "source": [
    "# Model \n",
    "model = tf.keras.Sequential([\n",
    "    vectorize_layer,\n",
    "    tf.keras.layers.Embedding(\n",
    "        input_dim=len(vectorize_layer.get_vocabulary()),\n",
    "        output_dim=64,\n",
    "        # Use masking to handle the variable sequence lengths\n",
    "        mask_zero=True),\n",
    "    tf.keras.layers.Bidirectional(tf.keras.layers.LSTM(64)),\n",
    "    tf.keras.layers.Dense(64, activation='relu'),\n",
    "    tf.keras.layers.Dense(1)\n",
    "])"
   ]
  },
  {
   "cell_type": "code",
   "execution_count": 15,
   "metadata": {},
   "outputs": [],
   "source": [
    "# Compile Model\n",
    "model.compile(loss='binary_crossentropy', optimizer='adam', metrics=['accuracy'])"
   ]
  },
  {
   "cell_type": "code",
   "execution_count": 16,
   "metadata": {},
   "outputs": [
    {
     "name": "stdout",
     "output_type": "stream",
     "text": [
      "Epoch 1/10\n",
      "22500/22500 [==============================] - 1516s 67ms/step - loss: 0.3921 - accuracy: 0.8437 - val_loss: 0.3495 - val_accuracy: 0.8656\n",
      "Epoch 2/10\n",
      "22500/22500 [==============================] - 1482s 66ms/step - loss: 0.3461 - accuracy: 0.8726 - val_loss: 0.9458 - val_accuracy: 0.4995\n",
      "Epoch 3/10\n",
      "22500/22500 [==============================] - 1483s 66ms/step - loss: 0.3613 - accuracy: 0.8754 - val_loss: 0.3334 - val_accuracy: 0.8790\n",
      "Epoch 4/10\n",
      "22500/22500 [==============================] - 1483s 66ms/step - loss: 0.3689 - accuracy: 0.8771 - val_loss: 0.3654 - val_accuracy: 0.8903\n",
      "Epoch 5/10\n",
      "22500/22500 [==============================] - 1481s 66ms/step - loss: 0.4462 - accuracy: 0.8761 - val_loss: 0.4019 - val_accuracy: 0.8786\n",
      "Epoch 6/10\n",
      "22500/22500 [==============================] - 1470s 65ms/step - loss: 0.4351 - accuracy: 0.8762 - val_loss: 0.3608 - val_accuracy: 0.8830\n",
      "Epoch 7/10\n",
      "22500/22500 [==============================] - 1462s 65ms/step - loss: 0.4617 - accuracy: 0.8708 - val_loss: 0.3751 - val_accuracy: 0.8853\n",
      "Epoch 8/10\n",
      "22500/22500 [==============================] - 1441s 64ms/step - loss: 0.5306 - accuracy: 0.8718 - val_loss: 0.3831 - val_accuracy: 0.8866\n",
      "Epoch 9/10\n",
      "22500/22500 [==============================] - 1475s 66ms/step - loss: 0.4834 - accuracy: 0.8721 - val_loss: 0.3650 - val_accuracy: 0.8900\n",
      "Epoch 10/10\n",
      "22500/22500 [==============================] - 1445s 64ms/step - loss: 0.3642 - accuracy: 0.8863 - val_loss: 0.3913 - val_accuracy: 0.8813\n"
     ]
    }
   ],
   "source": [
    "# Model Training\n",
    "batch_size = 64\n",
    "epochs = 10\n",
    "history = model.fit(X_train, y_train, batch_size=batch_size, epochs=epochs, validation_data=(X_test, y_test))"
   ]
  },
  {
   "cell_type": "code",
   "execution_count": 17,
   "metadata": {},
   "outputs": [],
   "source": [
    "loss_df = pd.DataFrame(model.history.history)"
   ]
  },
  {
   "cell_type": "code",
   "execution_count": null,
   "metadata": {},
   "outputs": [],
   "source": [
    "from sklearn.metrics import accuracy_score, classification_report"
   ]
  },
  {
   "cell_type": "code",
   "execution_count": 18,
   "metadata": {},
   "outputs": [],
   "source": [
    "import matplotlib.pyplot as plt"
   ]
  },
  {
   "cell_type": "code",
   "execution_count": 20,
   "metadata": {},
   "outputs": [
    {
     "data": {
      "text/html": [
       "<div>\n",
       "<style scoped>\n",
       "    .dataframe tbody tr th:only-of-type {\n",
       "        vertical-align: middle;\n",
       "    }\n",
       "\n",
       "    .dataframe tbody tr th {\n",
       "        vertical-align: top;\n",
       "    }\n",
       "\n",
       "    .dataframe thead th {\n",
       "        text-align: right;\n",
       "    }\n",
       "</style>\n",
       "<table border=\"1\" class=\"dataframe\">\n",
       "  <thead>\n",
       "    <tr style=\"text-align: right;\">\n",
       "      <th></th>\n",
       "      <th>loss</th>\n",
       "      <th>accuracy</th>\n",
       "      <th>val_loss</th>\n",
       "      <th>val_accuracy</th>\n",
       "    </tr>\n",
       "  </thead>\n",
       "  <tbody>\n",
       "    <tr>\n",
       "      <th>0</th>\n",
       "      <td>0.392142</td>\n",
       "      <td>0.843657</td>\n",
       "      <td>0.349531</td>\n",
       "      <td>0.865633</td>\n",
       "    </tr>\n",
       "    <tr>\n",
       "      <th>1</th>\n",
       "      <td>0.346094</td>\n",
       "      <td>0.872561</td>\n",
       "      <td>0.945795</td>\n",
       "      <td>0.499536</td>\n",
       "    </tr>\n",
       "    <tr>\n",
       "      <th>2</th>\n",
       "      <td>0.361278</td>\n",
       "      <td>0.875394</td>\n",
       "      <td>0.333435</td>\n",
       "      <td>0.879031</td>\n",
       "    </tr>\n",
       "    <tr>\n",
       "      <th>3</th>\n",
       "      <td>0.368935</td>\n",
       "      <td>0.877058</td>\n",
       "      <td>0.365425</td>\n",
       "      <td>0.890339</td>\n",
       "    </tr>\n",
       "    <tr>\n",
       "      <th>4</th>\n",
       "      <td>0.446184</td>\n",
       "      <td>0.876074</td>\n",
       "      <td>0.401916</td>\n",
       "      <td>0.878611</td>\n",
       "    </tr>\n",
       "    <tr>\n",
       "      <th>5</th>\n",
       "      <td>0.435103</td>\n",
       "      <td>0.876245</td>\n",
       "      <td>0.360758</td>\n",
       "      <td>0.883042</td>\n",
       "    </tr>\n",
       "    <tr>\n",
       "      <th>6</th>\n",
       "      <td>0.461698</td>\n",
       "      <td>0.870831</td>\n",
       "      <td>0.375115</td>\n",
       "      <td>0.885264</td>\n",
       "    </tr>\n",
       "    <tr>\n",
       "      <th>7</th>\n",
       "      <td>0.530599</td>\n",
       "      <td>0.871839</td>\n",
       "      <td>0.383144</td>\n",
       "      <td>0.886611</td>\n",
       "    </tr>\n",
       "    <tr>\n",
       "      <th>8</th>\n",
       "      <td>0.483384</td>\n",
       "      <td>0.872099</td>\n",
       "      <td>0.365026</td>\n",
       "      <td>0.890036</td>\n",
       "    </tr>\n",
       "    <tr>\n",
       "      <th>9</th>\n",
       "      <td>0.364249</td>\n",
       "      <td>0.886329</td>\n",
       "      <td>0.391299</td>\n",
       "      <td>0.881292</td>\n",
       "    </tr>\n",
       "  </tbody>\n",
       "</table>\n",
       "</div>"
      ],
      "text/plain": [
       "       loss  accuracy  val_loss  val_accuracy\n",
       "0  0.392142  0.843657  0.349531      0.865633\n",
       "1  0.346094  0.872561  0.945795      0.499536\n",
       "2  0.361278  0.875394  0.333435      0.879031\n",
       "3  0.368935  0.877058  0.365425      0.890339\n",
       "4  0.446184  0.876074  0.401916      0.878611\n",
       "5  0.435103  0.876245  0.360758      0.883042\n",
       "6  0.461698  0.870831  0.375115      0.885264\n",
       "7  0.530599  0.871839  0.383144      0.886611\n",
       "8  0.483384  0.872099  0.365026      0.890036\n",
       "9  0.364249  0.886329  0.391299      0.881292"
      ]
     },
     "execution_count": 20,
     "metadata": {},
     "output_type": "execute_result"
    }
   ],
   "source": [
    "loss_df"
   ]
  },
  {
   "cell_type": "code",
   "execution_count": 30,
   "metadata": {},
   "outputs": [
    {
     "name": "stderr",
     "output_type": "stream",
     "text": [
      "No artists with labels found to put in legend.  Note that artists whose label start with an underscore are ignored when legend() is called with no argument.\n",
      "No artists with labels found to put in legend.  Note that artists whose label start with an underscore are ignored when legend() is called with no argument.\n"
     ]
    },
    {
     "data": {
      "text/plain": [
       "<Axes: title={'center': 'Training Loss vs Accuracy'}>"
      ]
     },
     "execution_count": 30,
     "metadata": {},
     "output_type": "execute_result"
    },
    {
     "data": {
      "image/png": "[encoded data removed]",
      "text/plain": [
       "<Figure size 1500x600 with 2 Axes>"
      ]
     },
     "metadata": {},
     "output_type": "display_data"
    }
   ],
   "source": [
    "fig, axes = plt.subplots(1,2 , figsize = (15,6))\n",
    "\n",
    "axes1 = axes[0]\n",
    "plt.plot(loss_df[['loss','accuracy']])\n",
    "plt.title('Training Loss vs Accuracy')\n",
    "plt.axes(axes1)\n",
    "\n",
    "axes2 = axes[1]\n",
    "\n",
    "plt.plot(loss_df[['val_loss','val_accuracy']])\n",
    "plt.title('Validation Loss vs Accuracy')\n",
    "plt.axes(axes2)"
   ]
  },
  {
   "cell_type": "code",
   "execution_count": 31,
   "metadata": {},
   "outputs": [
    {
     "name": "stderr",
     "output_type": "stream",
     "text": [
      "WARNING:absl:Found untraced functions such as lstm_cell_1_layer_call_fn, lstm_cell_1_layer_call_and_return_conditional_losses, lstm_cell_2_layer_call_fn, lstm_cell_2_layer_call_and_return_conditional_losses while saving (showing 4 of 4). These functions will not be directly callable after loading.\n"
     ]
    },
    {
     "name": "stdout",
     "output_type": "stream",
     "text": [
      "INFO:tensorflow:Assets written to: ram://26053f14-4b9f-49ba-a1e6-814406410a96/assets\n"
     ]
    },
    {
     "name": "stderr",
     "output_type": "stream",
     "text": [
      "INFO:tensorflow:Assets written to: ram://26053f14-4b9f-49ba-a1e6-814406410a96/assets\n"
     ]
    },
    {
     "data": {
      "text/plain": [
       "['LSTM_04(Model_Trained_on_complete_data).joblib']"
      ]
     },
     "execution_count": 31,
     "metadata": {},
     "output_type": "execute_result"
    }
   ],
   "source": [
    "import joblib \n",
    "joblib.dump(model, 'LSTM_04(Model_Trained_on_complete_data).joblib')"
   ]
  },
  {
   "cell_type": "code",
   "execution_count": 33,
   "metadata": {},
   "outputs": [],
   "source": [
    "model.save_weights('LSTM_04_model_weights.tf')"
   ]
  }
 ],
 "metadata": {
  "kernelspec": {
   "display_name": "tf",
   "language": "python",
   "name": "python3"
  },
  "language_info": {
   "codemirror_mode": {
    "name": "ipython",
    "version": 3
   },
   "file_extension": ".py",
   "mimetype": "text/x-python",
   "name": "python",
   "nbconvert_exporter": "python",
   "pygments_lexer": "ipython3",
   "version": "3.9.18"
  }
 },
 "nbformat": 4,
 "nbformat_minor": 2
}

{
 "cells": [
  {
   "cell_type": "code",
   "execution_count": 7,
   "metadata": {},
   "outputs": [],
   "source": [
    "import pandas as pd\n",
    "import numpy as np\n",
    "import nltk\n",
    "from nltk.corpus import stopwords\n",
    "import string\n",
    "from nltk.tokenize import word_tokenize\n",
    "from sklearn.model_selection import train_test_split"
   ]
  },
  {
   "cell_type": "code",
   "execution_count": 2,
   "metadata": {},
   "outputs": [],
   "source": [
    "toys_df = pd.read_json(\"D:\\CDAC_PUNE_PROJECT\\Toys_and_Games.json\\Toys_and_Games.json\",lines=True)"
   ]
  },
  {
   "cell_type": "code",
   "execution_count": 3,
   "metadata": {},
   "outputs": [
    {
     "data": {
      "text/html": [
       "<div>\n",
       "<style scoped>\n",
       "    .dataframe tbody tr th:only-of-type {\n",
       "        vertical-align: middle;\n",
       "    }\n",
       "\n",
       "    .dataframe tbody tr th {\n",
       "        vertical-align: top;\n",
       "    }\n",
       "\n",
       "    .dataframe thead th {\n",
       "        text-align: right;\n",
       "    }\n",
       "</style>\n",
       "<table border=\"1\" class=\"dataframe\">\n",
       "  <thead>\n",
       "    <tr style=\"text-align: right;\">\n",
       "      <th></th>\n",
       "      <th>_id</th>\n",
       "      <th>reviewerID</th>\n",
       "      <th>asin</th>\n",
       "      <th>reviewerName</th>\n",
       "      <th>helpful</th>\n",
       "      <th>reviewText</th>\n",
       "      <th>overall</th>\n",
       "      <th>summary</th>\n",
       "      <th>unixReviewTime</th>\n",
       "      <th>reviewTime</th>\n",
       "      <th>category</th>\n",
       "      <th>class</th>\n",
       "    </tr>\n",
       "  </thead>\n",
       "  <tbody>\n",
       "    <tr>\n",
       "      <th>0</th>\n",
       "      <td>{'$oid': '5a13282b741a2384e879a620'}</td>\n",
       "      <td>A3C9CSW3TJITGT</td>\n",
       "      <td>0005069491</td>\n",
       "      <td>Renee</td>\n",
       "      <td>[0, 0]</td>\n",
       "      <td>I love these felt nursery rhyme characters and...</td>\n",
       "      <td>4</td>\n",
       "      <td>Charming characters but busy work required</td>\n",
       "      <td>1377561600</td>\n",
       "      <td>08 27, 2013</td>\n",
       "      <td>Toys_and_Games</td>\n",
       "      <td>1</td>\n",
       "    </tr>\n",
       "    <tr>\n",
       "      <th>1</th>\n",
       "      <td>{'$oid': '5a13282b741a2384e879a621'}</td>\n",
       "      <td>A31POTIYCKSZ9G</td>\n",
       "      <td>0076561046</td>\n",
       "      <td>So CA Teacher</td>\n",
       "      <td>[0, 0]</td>\n",
       "      <td>I see no directions for its use. Therefore I h...</td>\n",
       "      <td>3</td>\n",
       "      <td>No directions for use...</td>\n",
       "      <td>1404864000</td>\n",
       "      <td>07 9, 2014</td>\n",
       "      <td>Toys_and_Games</td>\n",
       "      <td>0</td>\n",
       "    </tr>\n",
       "    <tr>\n",
       "      <th>2</th>\n",
       "      <td>{'$oid': '5a13282b741a2384e879a622'}</td>\n",
       "      <td>A2GGHHME9B6W4O</td>\n",
       "      <td>0131358936</td>\n",
       "      <td>Dalilah G.</td>\n",
       "      <td>[0, 0]</td>\n",
       "      <td>This is a great tool for any teacher using the...</td>\n",
       "      <td>5</td>\n",
       "      <td>Great CD-ROM</td>\n",
       "      <td>1382400000</td>\n",
       "      <td>10 22, 2013</td>\n",
       "      <td>Toys_and_Games</td>\n",
       "      <td>1</td>\n",
       "    </tr>\n",
       "    <tr>\n",
       "      <th>3</th>\n",
       "      <td>{'$oid': '5a13282b741a2384e879a61f'}</td>\n",
       "      <td>AMEVO2LY6VEJA</td>\n",
       "      <td>0000191639</td>\n",
       "      <td>Nicole Soeder</td>\n",
       "      <td>[0, 0]</td>\n",
       "      <td>Great product, thank you! Our son loved the pu...</td>\n",
       "      <td>5</td>\n",
       "      <td>Puzzles</td>\n",
       "      <td>1388016000</td>\n",
       "      <td>12 26, 2013</td>\n",
       "      <td>Toys_and_Games</td>\n",
       "      <td>1</td>\n",
       "    </tr>\n",
       "    <tr>\n",
       "      <th>4</th>\n",
       "      <td>{'$oid': '5a13282b741a2384e879a623'}</td>\n",
       "      <td>A1FSLDH43ORWZP</td>\n",
       "      <td>0133642984</td>\n",
       "      <td>Dayna English</td>\n",
       "      <td>[0, 0]</td>\n",
       "      <td>Although not as streamlined as the Algebra I m...</td>\n",
       "      <td>5</td>\n",
       "      <td>Algebra II -- presentation materials</td>\n",
       "      <td>1374278400</td>\n",
       "      <td>07 20, 2013</td>\n",
       "      <td>Toys_and_Games</td>\n",
       "      <td>1</td>\n",
       "    </tr>\n",
       "    <tr>\n",
       "      <th>5</th>\n",
       "      <td>{'$oid': '5a13282b741a2384e879a624'}</td>\n",
       "      <td>A3NXHTSEBX9YHB</td>\n",
       "      <td>0279515766</td>\n",
       "      <td>marlenetbueras</td>\n",
       "      <td>[0, 0]</td>\n",
       "      <td>i am glad to get it after 25 yr of waiting for...</td>\n",
       "      <td>5</td>\n",
       "      <td>my strawberry shortcake</td>\n",
       "      <td>1363564800</td>\n",
       "      <td>03 18, 2013</td>\n",
       "      <td>Toys_and_Games</td>\n",
       "      <td>1</td>\n",
       "    </tr>\n",
       "    <tr>\n",
       "      <th>6</th>\n",
       "      <td>{'$oid': '5a13282b741a2384e879a626'}</td>\n",
       "      <td>A3CJHKFHHQJP2K</td>\n",
       "      <td>0375829695</td>\n",
       "      <td>Beth Sharo \"bookmom\"</td>\n",
       "      <td>[0, 0]</td>\n",
       "      <td>My son got this book for his birthday.  He lov...</td>\n",
       "      <td>1</td>\n",
       "      <td>Disappointing Puzzle Book</td>\n",
       "      <td>1297209600</td>\n",
       "      <td>02 9, 2011</td>\n",
       "      <td>Toys_and_Games</td>\n",
       "      <td>0</td>\n",
       "    </tr>\n",
       "    <tr>\n",
       "      <th>7</th>\n",
       "      <td>{'$oid': '5a13282b741a2384e879a627'}</td>\n",
       "      <td>A3638FINP26E8N</td>\n",
       "      <td>0375829695</td>\n",
       "      <td>C. Boykin</td>\n",
       "      <td>[1, 1]</td>\n",
       "      <td>Love the book format. My 4yr old grandson love...</td>\n",
       "      <td>3</td>\n",
       "      <td>frustrating puzzle pieces</td>\n",
       "      <td>1282521600</td>\n",
       "      <td>08 23, 2010</td>\n",
       "      <td>Toys_and_Games</td>\n",
       "      <td>0</td>\n",
       "    </tr>\n",
       "    <tr>\n",
       "      <th>8</th>\n",
       "      <td>{'$oid': '5a13282b741a2384e879a62a'}</td>\n",
       "      <td>A1QG5NJW3LOTSO</td>\n",
       "      <td>0375829695</td>\n",
       "      <td>H. Chao</td>\n",
       "      <td>[0, 0]</td>\n",
       "      <td>On the plus side - puzzle book format and deli...</td>\n",
       "      <td>3</td>\n",
       "      <td>mixed feelings</td>\n",
       "      <td>1201564800</td>\n",
       "      <td>01 29, 2008</td>\n",
       "      <td>Toys_and_Games</td>\n",
       "      <td>0</td>\n",
       "    </tr>\n",
       "    <tr>\n",
       "      <th>9</th>\n",
       "      <td>{'$oid': '5a13282b741a2384e879a629'}</td>\n",
       "      <td>A27GZ92KLXDJVJ</td>\n",
       "      <td>0375829695</td>\n",
       "      <td>D. Glade</td>\n",
       "      <td>[1, 1]</td>\n",
       "      <td>This puzzle is poorly made.  The picture part ...</td>\n",
       "      <td>2</td>\n",
       "      <td>Cheaply made puzzle - not worth your $!</td>\n",
       "      <td>1264550400</td>\n",
       "      <td>01 27, 2010</td>\n",
       "      <td>Toys_and_Games</td>\n",
       "      <td>0</td>\n",
       "    </tr>\n",
       "  </tbody>\n",
       "</table>\n",
       "</div>"
      ],
      "text/plain": [
       "                                    _id      reviewerID        asin  \\\n",
       "0  {'$oid': '5a13282b741a2384e879a620'}  A3C9CSW3TJITGT  0005069491   \n",
       "1  {'$oid': '5a13282b741a2384e879a621'}  A31POTIYCKSZ9G  0076561046   \n",
       "2  {'$oid': '5a13282b741a2384e879a622'}  A2GGHHME9B6W4O  0131358936   \n",
       "3  {'$oid': '5a13282b741a2384e879a61f'}   AMEVO2LY6VEJA  0000191639   \n",
       "4  {'$oid': '5a13282b741a2384e879a623'}  A1FSLDH43ORWZP  0133642984   \n",
       "5  {'$oid': '5a13282b741a2384e879a624'}  A3NXHTSEBX9YHB  0279515766   \n",
       "6  {'$oid': '5a13282b741a2384e879a626'}  A3CJHKFHHQJP2K  0375829695   \n",
       "7  {'$oid': '5a13282b741a2384e879a627'}  A3638FINP26E8N  0375829695   \n",
       "8  {'$oid': '5a13282b741a2384e879a62a'}  A1QG5NJW3LOTSO  0375829695   \n",
       "9  {'$oid': '5a13282b741a2384e879a629'}  A27GZ92KLXDJVJ  0375829695   \n",
       "\n",
       "           reviewerName helpful  \\\n",
       "0                 Renee  [0, 0]   \n",
       "1         So CA Teacher  [0, 0]   \n",
       "2            Dalilah G.  [0, 0]   \n",
       "3         Nicole Soeder  [0, 0]   \n",
       "4         Dayna English  [0, 0]   \n",
       "5        marlenetbueras  [0, 0]   \n",
       "6  Beth Sharo \"bookmom\"  [0, 0]   \n",
       "7             C. Boykin  [1, 1]   \n",
       "8               H. Chao  [0, 0]   \n",
       "9              D. Glade  [1, 1]   \n",
       "\n",
       "                                          reviewText  overall  \\\n",
       "0  I love these felt nursery rhyme characters and...        4   \n",
       "1  I see no directions for its use. Therefore I h...        3   \n",
       "2  This is a great tool for any teacher using the...        5   \n",
       "3  Great product, thank you! Our son loved the pu...        5   \n",
       "4  Although not as streamlined as the Algebra I m...        5   \n",
       "5  i am glad to get it after 25 yr of waiting for...        5   \n",
       "6  My son got this book for his birthday.  He lov...        1   \n",
       "7  Love the book format. My 4yr old grandson love...        3   \n",
       "8  On the plus side - puzzle book format and deli...        3   \n",
       "9  This puzzle is poorly made.  The picture part ...        2   \n",
       "\n",
       "                                      summary  unixReviewTime   reviewTime  \\\n",
       "0  Charming characters but busy work required      1377561600  08 27, 2013   \n",
       "1                    No directions for use...      1404864000   07 9, 2014   \n",
       "2                                Great CD-ROM      1382400000  10 22, 2013   \n",
       "3                                     Puzzles      1388016000  12 26, 2013   \n",
       "4        Algebra II -- presentation materials      1374278400  07 20, 2013   \n",
       "5                     my strawberry shortcake      1363564800  03 18, 2013   \n",
       "6                   Disappointing Puzzle Book      1297209600   02 9, 2011   \n",
       "7                   frustrating puzzle pieces      1282521600  08 23, 2010   \n",
       "8                              mixed feelings      1201564800  01 29, 2008   \n",
       "9     Cheaply made puzzle - not worth your $!      1264550400  01 27, 2010   \n",
       "\n",
       "         category  class  \n",
       "0  Toys_and_Games      1  \n",
       "1  Toys_and_Games      0  \n",
       "2  Toys_and_Games      1  \n",
       "3  Toys_and_Games      1  \n",
       "4  Toys_and_Games      1  \n",
       "5  Toys_and_Games      1  \n",
       "6  Toys_and_Games      0  \n",
       "7  Toys_and_Games      0  \n",
       "8  Toys_and_Games      0  \n",
       "9  Toys_and_Games      0  "
      ]
     },
     "execution_count": 3,
     "metadata": {},
     "output_type": "execute_result"
    }
   ],
   "source": [
    "toys_df.head(10)"
   ]
  },
  {
   "cell_type": "code",
   "execution_count": 4,
   "metadata": {},
   "outputs": [],
   "source": [
    "df=toys_df[['reviewText','class']]"
   ]
  },
  {
   "cell_type": "code",
   "execution_count": 5,
   "metadata": {},
   "outputs": [
    {
     "data": {
      "text/html": [
       "<div>\n",
       "<style scoped>\n",
       "    .dataframe tbody tr th:only-of-type {\n",
       "        vertical-align: middle;\n",
       "    }\n",
       "\n",
       "    .dataframe tbody tr th {\n",
       "        vertical-align: top;\n",
       "    }\n",
       "\n",
       "    .dataframe thead th {\n",
       "        text-align: right;\n",
       "    }\n",
       "</style>\n",
       "<table border=\"1\" class=\"dataframe\">\n",
       "  <thead>\n",
       "    <tr style=\"text-align: right;\">\n",
       "      <th></th>\n",
       "      <th>reviewText</th>\n",
       "      <th>class</th>\n",
       "    </tr>\n",
       "  </thead>\n",
       "  <tbody>\n",
       "    <tr>\n",
       "      <th>0</th>\n",
       "      <td>I love these felt nursery rhyme characters and...</td>\n",
       "      <td>1</td>\n",
       "    </tr>\n",
       "    <tr>\n",
       "      <th>1</th>\n",
       "      <td>I see no directions for its use. Therefore I h...</td>\n",
       "      <td>0</td>\n",
       "    </tr>\n",
       "    <tr>\n",
       "      <th>2</th>\n",
       "      <td>This is a great tool for any teacher using the...</td>\n",
       "      <td>1</td>\n",
       "    </tr>\n",
       "    <tr>\n",
       "      <th>3</th>\n",
       "      <td>Great product, thank you! Our son loved the pu...</td>\n",
       "      <td>1</td>\n",
       "    </tr>\n",
       "    <tr>\n",
       "      <th>4</th>\n",
       "      <td>Although not as streamlined as the Algebra I m...</td>\n",
       "      <td>1</td>\n",
       "    </tr>\n",
       "  </tbody>\n",
       "</table>\n",
       "</div>"
      ],
      "text/plain": [
       "                                          reviewText  class\n",
       "0  I love these felt nursery rhyme characters and...      1\n",
       "1  I see no directions for its use. Therefore I h...      0\n",
       "2  This is a great tool for any teacher using the...      1\n",
       "3  Great product, thank you! Our son loved the pu...      1\n",
       "4  Although not as streamlined as the Algebra I m...      1"
      ]
     },
     "execution_count": 5,
     "metadata": {},
     "output_type": "execute_result"
    }
   ],
   "source": [
    "df.head()"
   ]
  },
  {
   "cell_type": "code",
   "execution_count": 8,
   "metadata": {},
   "outputs": [
    {
     "data": {
      "text/plain": [
       "class\n",
       "1    1662754\n",
       "0     334386\n",
       "Name: count, dtype: int64"
      ]
     },
     "execution_count": 8,
     "metadata": {},
     "output_type": "execute_result"
    }
   ],
   "source": [
    "df['class'].value_counts()"
   ]
  },
  {
   "cell_type": "code",
   "execution_count": 10,
   "metadata": {},
   "outputs": [],
   "source": [
    "x=df['reviewText']\n",
    "y=df['class']"
   ]
  },
  {
   "cell_type": "code",
   "execution_count": 18,
   "metadata": {},
   "outputs": [],
   "source": [
    "\n",
    "train_sent,test_sent,train_labels,test_labels=train_test_split(x,y,stratify=y,test_size=0.3,random_state=0)"
   ]
  },
  {
   "cell_type": "code",
   "execution_count": 21,
   "metadata": {},
   "outputs": [
    {
     "data": {
      "text/plain": [
       "599142"
      ]
     },
     "execution_count": 21,
     "metadata": {},
     "output_type": "execute_result"
    }
   ],
   "source": [
    "test_sent.count()"
   ]
  },
  {
   "cell_type": "code",
   "execution_count": 22,
   "metadata": {},
   "outputs": [],
   "source": [
    "vocab_size = 10000\n",
    "embedding_dim = 16\n",
    "max_length = 120\n",
    "trunc_type = 'post'"
   ]
  },
  {
   "cell_type": "code",
   "execution_count": 23,
   "metadata": {},
   "outputs": [
    {
     "name": "stdout",
     "output_type": "stream",
     "text": [
      "Requirement already satisfied: keras_preprocessing in c:\\users\\prathamesh\\anaconda3\\envs\\deep_learning\\lib\\site-packages (1.1.2)\n",
      "Requirement already satisfied: numpy>=1.9.1 in c:\\users\\prathamesh\\anaconda3\\envs\\deep_learning\\lib\\site-packages (from keras_preprocessing) (1.24.3)\n",
      "Requirement already satisfied: six>=1.9.0 in c:\\users\\prathamesh\\anaconda3\\envs\\deep_learning\\lib\\site-packages (from keras_preprocessing) (1.16.0)\n"
     ]
    }
   ],
   "source": [
    "! pip install keras_preprocessing"
   ]
  },
  {
   "cell_type": "code",
   "execution_count": 24,
   "metadata": {},
   "outputs": [
    {
     "name": "stdout",
     "output_type": "stream",
     "text": [
      "WARNING:tensorflow:From c:\\Users\\Prathamesh\\anaconda3\\envs\\Deep_Learning\\Lib\\site-packages\\keras\\src\\losses.py:2976: The name tf.losses.sparse_softmax_cross_entropy is deprecated. Please use tf.compat.v1.losses.sparse_softmax_cross_entropy instead.\n",
      "\n"
     ]
    },
    {
     "data": {
      "text/plain": [
       "300029"
      ]
     },
     "execution_count": 24,
     "metadata": {},
     "output_type": "execute_result"
    }
   ],
   "source": [
    "from keras.preprocessing.text import Tokenizer\n",
    "from keras_preprocessing.sequence import pad_sequences\n",
    "tokenizer = Tokenizer(num_words=vocab_size)\n",
    "tokenizer.fit_on_texts(train_sent)\n",
    "word_index=tokenizer.word_index\n",
    "len(word_index)"
   ]
  },
  {
   "cell_type": "code",
   "execution_count": null,
   "metadata": {},
   "outputs": [],
   "source": []
  }
 ],
 "metadata": {
  "kernelspec": {
   "display_name": "Deep_Learning",
   "language": "python",
   "name": "python3"
  },
  "language_info": {
   "codemirror_mode": {
    "name": "ipython",
    "version": 3
   },
   "file_extension": ".py",
   "mimetype": "text/x-python",
   "name": "python",
   "nbconvert_exporter": "python",
   "pygments_lexer": "ipython3",
   "version": "3.11.5"
  }
 },
 "nbformat": 4,
 "nbformat_minor": 2
}

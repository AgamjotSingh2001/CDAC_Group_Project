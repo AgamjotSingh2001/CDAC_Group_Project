{
 "cells": [
  {
   "cell_type": "code",
   "execution_count": 1,
   "metadata": {},
   "outputs": [
    {
     "name": "stderr",
     "output_type": "stream",
     "text": [
      "C:\\Users\\HRUSHIKESH\\AppData\\Local\\Temp\\ipykernel_166572\\368771584.py:2: DeprecationWarning: \n",
      "Pyarrow will become a required dependency of pandas in the next major release of pandas (pandas 3.0),\n",
      "(to allow more performant data types, such as the Arrow string type, and better interoperability with other libraries)\n",
      "but was not found to be installed on your system.\n",
      "If this would cause problems for you,\n",
      "please provide us feedback at https://github.com/pandas-dev/pandas/issues/54466\n",
      "        \n",
      "  import pandas as pd\n"
     ]
    }
   ],
   "source": [
    "import numpy as np\n",
    "import pandas as pd\n",
    "from sklearn.model_selection import train_test_split\n",
    "import tensorflow as tf\n",
    "from tensorflow.keras.preprocessing.text import Tokenizer\n",
    "from tensorflow.keras.preprocessing.sequence import pad_sequences\n",
    "from tensorflow.keras.models import Sequential\n",
    "from tensorflow.keras.layers import Embedding, LSTM, Dense, SpatialDropout1D"
   ]
  },
  {
   "cell_type": "code",
   "execution_count": null,
   "metadata": {},
   "outputs": [],
   "source": [
    "# chunksize = 1000\n",
    "\n",
    "# # Open the JSON file in chunks\n",
    "# chunks = pd.read_json(\"Toys_and_Games.json\", lines=True, chunksize=chunksize)\n",
    "\n",
    "# # Initialize an empty list to store the chunks\n",
    "# chunk_list = []\n",
    "\n",
    "# # Process each chunk\n",
    "# for chunk in chunks:\n",
    "#     # Append the current chunk to the chunk_list\n",
    "#     chunk_list.append(chunk)\n",
    "\n",
    "# # Concatenate the chunks into a single DataFrame\n",
    "# combined_df = pd.concat(chunk_list, ignore_index=True)\n",
    "\n",
    "# # Now you have a single DataFrame containing all the data from the JSON file\n",
    "# print(combined_df.head())\n"
   ]
  },
  {
   "cell_type": "code",
   "execution_count": 2,
   "metadata": {},
   "outputs": [],
   "source": [
    "df = pd.read_csv(r'E:\\Git Demo\\CDAC_Group_Project\\Project_dataset\\toys.csv')"
   ]
  },
  {
   "cell_type": "code",
   "execution_count": 12,
   "metadata": {},
   "outputs": [],
   "source": [
    "x = df['reviewText']\n",
    "y = df['class']"
   ]
  },
  {
   "cell_type": "code",
   "execution_count": 7,
   "metadata": {},
   "outputs": [],
   "source": [
    "# # Tokenization\n",
    "# max_words = 10000\n",
    "# max_len = 1000\n",
    "# tokenizer = Tokenizer(num_words=max_words)\n",
    "# tokenizer.fit_on_texts(X)\n",
    "# X = tokenizer.texts_to_sequences(X)\n",
    "# X = pad_sequences(X, maxlen=max_len)"
   ]
  },
  {
   "cell_type": "code",
   "execution_count": 16,
   "metadata": {},
   "outputs": [],
   "source": [
    "text_dataset = tf.data.Dataset.from_tensor_slices(x)"
   ]
  },
  {
   "cell_type": "code",
   "execution_count": 14,
   "metadata": {},
   "outputs": [],
   "source": [
    "# # Train-test split\n",
    "X_train, X_test, y_train, y_test = train_test_split(x, y, test_size=0.2, random_state=42)\n",
    "# train_data , test_data = train_test_split(x,y,test_size=0.2,random_state=0)"
   ]
  },
  {
   "cell_type": "code",
   "execution_count": 17,
   "metadata": {},
   "outputs": [],
   "source": [
    "max_features = 10000\n",
    "max_len = 1000\n",
    "vectorize_layer = tf.keras.layers.TextVectorization(\n",
    " max_tokens=max_features,\n",
    " output_mode='int',\n",
    " output_sequence_length=max_len)\n",
    "\n",
    "vectorize_layer.adapt(text_dataset.batch(64))"
   ]
  },
  {
   "cell_type": "code",
   "execution_count": 18,
   "metadata": {},
   "outputs": [
    {
     "data": {
      "text/plain": [
       "array(['', '[UNK]', 'the', 'and', 'it', 'to', 'a', 'i', 'is', 'this',\n",
       "       'for', 'of', 'my', 'with', 'in', 'that', 'was', 'but', 'not', 'on'],\n",
       "      dtype='<U15')"
      ]
     },
     "execution_count": 18,
     "metadata": {},
     "output_type": "execute_result"
    }
   ],
   "source": [
    "vocab = np.array(vectorize_layer.get_vocabulary())\n",
    "vocab[:20]"
   ]
  },
  {
   "cell_type": "code",
   "execution_count": 9,
   "metadata": {},
   "outputs": [],
   "source": [
    "# # Model Building\n",
    "# model = Sequential()\n",
    "# model.add(Embedding(input_dim=max_words, output_dim=128, input_length=max_len))\n",
    "# model.add(LSTM(64))\n",
    "# model.add(Dense(1, activation='sigmoid'))"
   ]
  },
  {
   "cell_type": "code",
   "execution_count": 19,
   "metadata": {},
   "outputs": [],
   "source": [
    "model = tf.keras.Sequential([\n",
    "    vectorize_layer,\n",
    "    tf.keras.layers.Embedding(\n",
    "        input_dim=len(vectorize_layer.get_vocabulary()),\n",
    "        output_dim=64,\n",
    "        # Use masking to handle the variable sequence lengths\n",
    "        mask_zero=True),\n",
    "    tf.keras.layers.Bidirectional(tf.keras.layers.LSTM(64)),\n",
    "    tf.keras.layers.Dense(64, activation='relu'),\n",
    "    tf.keras.layers.Dense(1)\n",
    "])"
   ]
  },
  {
   "cell_type": "code",
   "execution_count": 20,
   "metadata": {},
   "outputs": [],
   "source": [
    "# Compile Model\n",
    "model.compile(loss='binary_crossentropy', optimizer='adam', metrics=['accuracy'])"
   ]
  },
  {
   "cell_type": "code",
   "execution_count": 22,
   "metadata": {},
   "outputs": [
    {
     "name": "stdout",
     "output_type": "stream",
     "text": [
      "Epoch 1/5\n",
      "3750/3750 [==============================] - 250s 64ms/step - loss: 0.5276 - accuracy: 0.8045 - val_loss: 7.6691 - val_accuracy: 0.4990\n",
      "Epoch 2/5\n",
      "3750/3750 [==============================] - 277s 74ms/step - loss: 0.6224 - accuracy: 0.8237 - val_loss: 0.3713 - val_accuracy: 0.8479\n",
      "Epoch 3/5\n",
      "3750/3750 [==============================] - 281s 75ms/step - loss: 0.5423 - accuracy: 0.8327 - val_loss: 0.3944 - val_accuracy: 0.8614\n",
      "Epoch 4/5\n",
      "3750/3750 [==============================] - 285s 76ms/step - loss: 0.3675 - accuracy: 0.8652 - val_loss: 0.3851 - val_accuracy: 0.8664\n",
      "Epoch 5/5\n",
      "3750/3750 [==============================] - 263s 70ms/step - loss: 0.3681 - accuracy: 0.8621 - val_loss: 0.3851 - val_accuracy: 0.8738\n"
     ]
    }
   ],
   "source": [
    "# Model Training\n",
    "batch_size = 64\n",
    "epochs = 5\n",
    "history = model.fit(X_train, y_train, batch_size=batch_size, epochs=epochs, validation_data=(X_test, y_test))"
   ]
  },
  {
   "cell_type": "code",
   "execution_count": 23,
   "metadata": {},
   "outputs": [
    {
     "name": "stdout",
     "output_type": "stream",
     "text": [
      "{'loss': [0.5276248455047607, 0.6224164962768555, 0.5423261523246765, 0.367537260055542, 0.3680608868598938], 'accuracy': [0.8045333623886108, 0.8236791491508484, 0.8327333331108093, 0.8652125000953674, 0.8621041774749756], 'val_loss': [7.669101715087891, 0.3712904155254364, 0.39440178871154785, 0.38506630063056946, 0.38514769077301025], 'val_accuracy': [0.49896666407585144, 0.8479333519935608, 0.8613666892051697, 0.8664000034332275, 0.8738499879837036]}\n"
     ]
    }
   ],
   "source": [
    "print(model.history.history)\n",
    "loss_df = pd.DataFrame(model.history.history)"
   ]
  },
  {
   "cell_type": "code",
   "execution_count": 24,
   "metadata": {},
   "outputs": [
    {
     "name": "stdout",
     "output_type": "stream",
     "text": [
      "1875/1875 [==============================] - 39s 21ms/step - loss: 0.3851 - accuracy: 0.8738\n",
      "Test Accuracy: 0.8738499879837036\n"
     ]
    }
   ],
   "source": [
    "# Model Evaluation\n",
    "loss, accuracy = model.evaluate(X_test, y_test)\n",
    "print(\"Test Accuracy:\", accuracy)"
   ]
  },
  {
   "cell_type": "code",
   "execution_count": 25,
   "metadata": {},
   "outputs": [
    {
     "data": {
      "text/html": [
       "<div>\n",
       "<style scoped>\n",
       "    .dataframe tbody tr th:only-of-type {\n",
       "        vertical-align: middle;\n",
       "    }\n",
       "\n",
       "    .dataframe tbody tr th {\n",
       "        vertical-align: top;\n",
       "    }\n",
       "\n",
       "    .dataframe thead th {\n",
       "        text-align: right;\n",
       "    }\n",
       "</style>\n",
       "<table border=\"1\" class=\"dataframe\">\n",
       "  <thead>\n",
       "    <tr style=\"text-align: right;\">\n",
       "      <th></th>\n",
       "      <th>loss</th>\n",
       "      <th>accuracy</th>\n",
       "      <th>val_loss</th>\n",
       "      <th>val_accuracy</th>\n",
       "    </tr>\n",
       "  </thead>\n",
       "  <tbody>\n",
       "    <tr>\n",
       "      <th>0</th>\n",
       "      <td>0.527625</td>\n",
       "      <td>0.804533</td>\n",
       "      <td>7.669102</td>\n",
       "      <td>0.498967</td>\n",
       "    </tr>\n",
       "    <tr>\n",
       "      <th>1</th>\n",
       "      <td>0.622416</td>\n",
       "      <td>0.823679</td>\n",
       "      <td>0.371290</td>\n",
       "      <td>0.847933</td>\n",
       "    </tr>\n",
       "    <tr>\n",
       "      <th>2</th>\n",
       "      <td>0.542326</td>\n",
       "      <td>0.832733</td>\n",
       "      <td>0.394402</td>\n",
       "      <td>0.861367</td>\n",
       "    </tr>\n",
       "    <tr>\n",
       "      <th>3</th>\n",
       "      <td>0.367537</td>\n",
       "      <td>0.865213</td>\n",
       "      <td>0.385066</td>\n",
       "      <td>0.866400</td>\n",
       "    </tr>\n",
       "    <tr>\n",
       "      <th>4</th>\n",
       "      <td>0.368061</td>\n",
       "      <td>0.862104</td>\n",
       "      <td>0.385148</td>\n",
       "      <td>0.873850</td>\n",
       "    </tr>\n",
       "  </tbody>\n",
       "</table>\n",
       "</div>"
      ],
      "text/plain": [
       "       loss  accuracy  val_loss  val_accuracy\n",
       "0  0.527625  0.804533  7.669102      0.498967\n",
       "1  0.622416  0.823679  0.371290      0.847933\n",
       "2  0.542326  0.832733  0.394402      0.861367\n",
       "3  0.367537  0.865213  0.385066      0.866400\n",
       "4  0.368061  0.862104  0.385148      0.873850"
      ]
     },
     "execution_count": 25,
     "metadata": {},
     "output_type": "execute_result"
    }
   ],
   "source": [
    "loss_df"
   ]
  },
  {
   "cell_type": "code",
   "execution_count": 26,
   "metadata": {},
   "outputs": [],
   "source": [
    "model.save_weights('LSTM_02_model_weights.h1')"
   ]
  }
 ],
 "metadata": {
  "kernelspec": {
   "display_name": "tf",
   "language": "python",
   "name": "python3"
  },
  "language_info": {
   "codemirror_mode": {
    "name": "ipython",
    "version": 3
   },
   "file_extension": ".py",
   "mimetype": "text/x-python",
   "name": "python",
   "nbconvert_exporter": "python",
   "pygments_lexer": "ipython3",
   "version": "3.9.18"
  }
 },
 "nbformat": 4,
 "nbformat_minor": 2
}

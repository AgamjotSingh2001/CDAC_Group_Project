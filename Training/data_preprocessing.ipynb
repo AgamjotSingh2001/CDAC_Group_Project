{
 "cells": [
  {
   "cell_type": "code",
   "execution_count": 8,
   "metadata": {},
   "outputs": [],
   "source": [
    "import pandas as pd\n",
    "import numpy as np\n",
    "from sklearn.model_selection import train_test_split\n"
   ]
  },
  {
   "cell_type": "code",
   "execution_count": 2,
   "metadata": {},
   "outputs": [],
   "source": [
    "sports=pd.read_json(\"D:\\CDAC_PUNE_PROJECT\\Sports_and_Outdoors.json\\Sports_and_Outdoors.json\",lines=True)"
   ]
  },
  {
   "cell_type": "code",
   "execution_count": 3,
   "metadata": {},
   "outputs": [
    {
     "data": {
      "text/html": [
       "<div>\n",
       "<style scoped>\n",
       "    .dataframe tbody tr th:only-of-type {\n",
       "        vertical-align: middle;\n",
       "    }\n",
       "\n",
       "    .dataframe tbody tr th {\n",
       "        vertical-align: top;\n",
       "    }\n",
       "\n",
       "    .dataframe thead th {\n",
       "        text-align: right;\n",
       "    }\n",
       "</style>\n",
       "<table border=\"1\" class=\"dataframe\">\n",
       "  <thead>\n",
       "    <tr style=\"text-align: right;\">\n",
       "      <th></th>\n",
       "      <th>_id</th>\n",
       "      <th>reviewerID</th>\n",
       "      <th>asin</th>\n",
       "      <th>reviewerName</th>\n",
       "      <th>helpful</th>\n",
       "      <th>reviewText</th>\n",
       "      <th>overall</th>\n",
       "      <th>summary</th>\n",
       "      <th>unixReviewTime</th>\n",
       "      <th>reviewTime</th>\n",
       "      <th>category</th>\n",
       "      <th>class</th>\n",
       "    </tr>\n",
       "  </thead>\n",
       "  <tbody>\n",
       "    <tr>\n",
       "      <th>0</th>\n",
       "      <td>{'$oid': '5a132768741a2384e847b8ed'}</td>\n",
       "      <td>A2PAVURT4NOHE1</td>\n",
       "      <td>0000031852</td>\n",
       "      <td>Leah</td>\n",
       "      <td>[0, 0]</td>\n",
       "      <td>Bought it for a ballet tutu but it is being wo...</td>\n",
       "      <td>5</td>\n",
       "      <td>Super cute</td>\n",
       "      <td>1388361600</td>\n",
       "      <td>12 30, 2013</td>\n",
       "      <td>Sports_and_Outdoors</td>\n",
       "      <td>1</td>\n",
       "    </tr>\n",
       "    <tr>\n",
       "      <th>1</th>\n",
       "      <td>{'$oid': '5a132768741a2384e847b8e9'}</td>\n",
       "      <td>A1SNLWGLFXD70K</td>\n",
       "      <td>0000031852</td>\n",
       "      <td>DEVA</td>\n",
       "      <td>[0, 0]</td>\n",
       "      <td>I origonally didn't get the item I ordered.  W...</td>\n",
       "      <td>4</td>\n",
       "      <td>Happy with purchase even though it came a lot ...</td>\n",
       "      <td>1392940800</td>\n",
       "      <td>02 21, 2014</td>\n",
       "      <td>Sports_and_Outdoors</td>\n",
       "      <td>1</td>\n",
       "    </tr>\n",
       "    <tr>\n",
       "      <th>2</th>\n",
       "      <td>{'$oid': '5a132768741a2384e847b8ee'}</td>\n",
       "      <td>A3URQ0LXLV46E9</td>\n",
       "      <td>0000031852</td>\n",
       "      <td>shortyvee</td>\n",
       "      <td>[0, 0]</td>\n",
       "      <td>My daughter and her friends love the colors an...</td>\n",
       "      <td>4</td>\n",
       "      <td>zebralisous</td>\n",
       "      <td>1400544000</td>\n",
       "      <td>05 20, 2014</td>\n",
       "      <td>Sports_and_Outdoors</td>\n",
       "      <td>1</td>\n",
       "    </tr>\n",
       "    <tr>\n",
       "      <th>3</th>\n",
       "      <td>{'$oid': '5a132768741a2384e847b8ea'}</td>\n",
       "      <td>A1KJ4CVG87QW09</td>\n",
       "      <td>0000031852</td>\n",
       "      <td>Donna Carter-Scott</td>\n",
       "      <td>[0, 0]</td>\n",
       "      <td>Arrived very timely, cute grandbaby loves it. ...</td>\n",
       "      <td>4</td>\n",
       "      <td>Cute Tutu</td>\n",
       "      <td>1389657600</td>\n",
       "      <td>01 14, 2014</td>\n",
       "      <td>Sports_and_Outdoors</td>\n",
       "      <td>1</td>\n",
       "    </tr>\n",
       "    <tr>\n",
       "      <th>4</th>\n",
       "      <td>{'$oid': '5a132768741a2384e847b8eb'}</td>\n",
       "      <td>AA9ITO6ZLZW6</td>\n",
       "      <td>0000031852</td>\n",
       "      <td>Jazzy77</td>\n",
       "      <td>[0, 0]</td>\n",
       "      <td>My little girl just loves to wear this tutu be...</td>\n",
       "      <td>5</td>\n",
       "      <td>Versatile</td>\n",
       "      <td>1399507200</td>\n",
       "      <td>05 8, 2014</td>\n",
       "      <td>Sports_and_Outdoors</td>\n",
       "      <td>1</td>\n",
       "    </tr>\n",
       "  </tbody>\n",
       "</table>\n",
       "</div>"
      ],
      "text/plain": [
       "                                    _id      reviewerID        asin  \\\n",
       "0  {'$oid': '5a132768741a2384e847b8ed'}  A2PAVURT4NOHE1  0000031852   \n",
       "1  {'$oid': '5a132768741a2384e847b8e9'}  A1SNLWGLFXD70K  0000031852   \n",
       "2  {'$oid': '5a132768741a2384e847b8ee'}  A3URQ0LXLV46E9  0000031852   \n",
       "3  {'$oid': '5a132768741a2384e847b8ea'}  A1KJ4CVG87QW09  0000031852   \n",
       "4  {'$oid': '5a132768741a2384e847b8eb'}    AA9ITO6ZLZW6  0000031852   \n",
       "\n",
       "         reviewerName helpful  \\\n",
       "0                Leah  [0, 0]   \n",
       "1                DEVA  [0, 0]   \n",
       "2           shortyvee  [0, 0]   \n",
       "3  Donna Carter-Scott  [0, 0]   \n",
       "4             Jazzy77  [0, 0]   \n",
       "\n",
       "                                          reviewText  overall  \\\n",
       "0  Bought it for a ballet tutu but it is being wo...        5   \n",
       "1  I origonally didn't get the item I ordered.  W...        4   \n",
       "2  My daughter and her friends love the colors an...        4   \n",
       "3  Arrived very timely, cute grandbaby loves it. ...        4   \n",
       "4  My little girl just loves to wear this tutu be...        5   \n",
       "\n",
       "                                             summary  unixReviewTime  \\\n",
       "0                                         Super cute      1388361600   \n",
       "1  Happy with purchase even though it came a lot ...      1392940800   \n",
       "2                                        zebralisous      1400544000   \n",
       "3                                          Cute Tutu      1389657600   \n",
       "4                                          Versatile      1399507200   \n",
       "\n",
       "    reviewTime             category  class  \n",
       "0  12 30, 2013  Sports_and_Outdoors      1  \n",
       "1  02 21, 2014  Sports_and_Outdoors      1  \n",
       "2  05 20, 2014  Sports_and_Outdoors      1  \n",
       "3  01 14, 2014  Sports_and_Outdoors      1  \n",
       "4   05 8, 2014  Sports_and_Outdoors      1  "
      ]
     },
     "execution_count": 3,
     "metadata": {},
     "output_type": "execute_result"
    }
   ],
   "source": [
    "sports.head(5)"
   ]
  },
  {
   "cell_type": "code",
   "execution_count": 4,
   "metadata": {},
   "outputs": [
    {
     "data": {
      "text/plain": [
       "class\n",
       "1    2481105\n",
       "0     532151\n",
       "Name: count, dtype: int64"
      ]
     },
     "execution_count": 4,
     "metadata": {},
     "output_type": "execute_result"
    }
   ],
   "source": [
    "sports['class'].value_counts()"
   ]
  },
  {
   "cell_type": "code",
   "execution_count": 5,
   "metadata": {},
   "outputs": [],
   "source": [
    "df_temp = sports[['reviewText','class']]"
   ]
  },
  {
   "cell_type": "code",
   "execution_count": 6,
   "metadata": {},
   "outputs": [
    {
     "data": {
      "text/html": [
       "<div>\n",
       "<style scoped>\n",
       "    .dataframe tbody tr th:only-of-type {\n",
       "        vertical-align: middle;\n",
       "    }\n",
       "\n",
       "    .dataframe tbody tr th {\n",
       "        vertical-align: top;\n",
       "    }\n",
       "\n",
       "    .dataframe thead th {\n",
       "        text-align: right;\n",
       "    }\n",
       "</style>\n",
       "<table border=\"1\" class=\"dataframe\">\n",
       "  <thead>\n",
       "    <tr style=\"text-align: right;\">\n",
       "      <th></th>\n",
       "      <th>reviewText</th>\n",
       "      <th>class</th>\n",
       "    </tr>\n",
       "  </thead>\n",
       "  <tbody>\n",
       "    <tr>\n",
       "      <th>0</th>\n",
       "      <td>Bought it for a ballet tutu but it is being wo...</td>\n",
       "      <td>1</td>\n",
       "    </tr>\n",
       "    <tr>\n",
       "      <th>1</th>\n",
       "      <td>I origonally didn't get the item I ordered.  W...</td>\n",
       "      <td>1</td>\n",
       "    </tr>\n",
       "    <tr>\n",
       "      <th>2</th>\n",
       "      <td>My daughter and her friends love the colors an...</td>\n",
       "      <td>1</td>\n",
       "    </tr>\n",
       "    <tr>\n",
       "      <th>3</th>\n",
       "      <td>Arrived very timely, cute grandbaby loves it. ...</td>\n",
       "      <td>1</td>\n",
       "    </tr>\n",
       "    <tr>\n",
       "      <th>4</th>\n",
       "      <td>My little girl just loves to wear this tutu be...</td>\n",
       "      <td>1</td>\n",
       "    </tr>\n",
       "    <tr>\n",
       "      <th>...</th>\n",
       "      <td>...</td>\n",
       "      <td>...</td>\n",
       "    </tr>\n",
       "    <tr>\n",
       "      <th>3013251</th>\n",
       "      <td>This only took 2 days to receive and the cord ...</td>\n",
       "      <td>1</td>\n",
       "    </tr>\n",
       "    <tr>\n",
       "      <th>3013252</th>\n",
       "      <td>Bought this item for travel use and so far it ...</td>\n",
       "      <td>1</td>\n",
       "    </tr>\n",
       "    <tr>\n",
       "      <th>3013253</th>\n",
       "      <td>Wasn't expecting this Paracord to be as Vibran...</td>\n",
       "      <td>1</td>\n",
       "    </tr>\n",
       "    <tr>\n",
       "      <th>3013254</th>\n",
       "      <td>Bought this item for home and so far it was pr...</td>\n",
       "      <td>1</td>\n",
       "    </tr>\n",
       "    <tr>\n",
       "      <th>3013255</th>\n",
       "      <td>This paracord is high quality. I have buy some...</td>\n",
       "      <td>1</td>\n",
       "    </tr>\n",
       "  </tbody>\n",
       "</table>\n",
       "<p>3013256 rows × 2 columns</p>\n",
       "</div>"
      ],
      "text/plain": [
       "                                                reviewText  class\n",
       "0        Bought it for a ballet tutu but it is being wo...      1\n",
       "1        I origonally didn't get the item I ordered.  W...      1\n",
       "2        My daughter and her friends love the colors an...      1\n",
       "3        Arrived very timely, cute grandbaby loves it. ...      1\n",
       "4        My little girl just loves to wear this tutu be...      1\n",
       "...                                                    ...    ...\n",
       "3013251  This only took 2 days to receive and the cord ...      1\n",
       "3013252  Bought this item for travel use and so far it ...      1\n",
       "3013253  Wasn't expecting this Paracord to be as Vibran...      1\n",
       "3013254  Bought this item for home and so far it was pr...      1\n",
       "3013255  This paracord is high quality. I have buy some...      1\n",
       "\n",
       "[3013256 rows x 2 columns]"
      ]
     },
     "execution_count": 6,
     "metadata": {},
     "output_type": "execute_result"
    }
   ],
   "source": [
    "df_temp"
   ]
  },
  {
   "cell_type": "code",
   "execution_count": 11,
   "metadata": {},
   "outputs": [
    {
     "data": {
      "text/plain": [
       "0          NaN\n",
       "1          NaN\n",
       "2          NaN\n",
       "3          NaN\n",
       "4          NaN\n",
       "          ... \n",
       "3013251    NaN\n",
       "3013252    NaN\n",
       "3013253    NaN\n",
       "3013254    NaN\n",
       "3013255    NaN\n",
       "Name: reviewText, Length: 3013256, dtype: object"
      ]
     },
     "execution_count": 11,
     "metadata": {},
     "output_type": "execute_result"
    }
   ],
   "source": [
    "df_temp['reviewText'].where(df_temp['class']==0)"
   ]
  },
  {
   "cell_type": "code",
   "execution_count": null,
   "metadata": {},
   "outputs": [],
   "source": []
  }
 ],
 "metadata": {
  "kernelspec": {
   "display_name": "deep_learning",
   "language": "python",
   "name": "python3"
  },
  "language_info": {
   "codemirror_mode": {
    "name": "ipython",
    "version": 3
   },
   "file_extension": ".py",
   "mimetype": "text/x-python",
   "name": "python",
   "nbconvert_exporter": "python",
   "pygments_lexer": "ipython3",
   "version": "3.9.18"
  }
 },
 "nbformat": 4,
 "nbformat_minor": 2
}

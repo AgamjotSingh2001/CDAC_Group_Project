{
 "cells": [
  {
   "cell_type": "code",
   "execution_count": 1,
   "metadata": {},
   "outputs": [
    {
     "name": "stderr",
     "output_type": "stream",
     "text": [
      "C:\\Users\\HRUSHIKESH\\AppData\\Local\\Temp\\ipykernel_163016\\3938609886.py:2: DeprecationWarning: \n",
      "Pyarrow will become a required dependency of pandas in the next major release of pandas (pandas 3.0),\n",
      "(to allow more performant data types, such as the Arrow string type, and better interoperability with other libraries)\n",
      "but was not found to be installed on your system.\n",
      "If this would cause problems for you,\n",
      "please provide us feedback at https://github.com/pandas-dev/pandas/issues/54466\n",
      "        \n",
      "  import pandas as pd\n"
     ]
    }
   ],
   "source": [
    "import numpy as np\n",
    "import pandas as pd\n",
    "from sklearn.model_selection import train_test_split\n",
    "from tensorflow.keras.preprocessing.text import Tokenizer\n",
    "from tensorflow.keras.preprocessing.sequence import pad_sequences\n",
    "from tensorflow.keras.models import Sequential\n",
    "from tensorflow.keras.layers import Embedding, LSTM, Dense, SpatialDropout1D"
   ]
  },
  {
   "cell_type": "code",
   "execution_count": null,
   "metadata": {},
   "outputs": [],
   "source": [
    "# chunksize = 1000\n",
    "\n",
    "# # Open the JSON file in chunks\n",
    "# chunks = pd.read_json(\"Toys_and_Games.json\", lines=True, chunksize=chunksize)\n",
    "\n",
    "# # Initialize an empty list to store the chunks\n",
    "# chunk_list = []\n",
    "\n",
    "# # Process each chunk\n",
    "# for chunk in chunks:\n",
    "#     # Append the current chunk to the chunk_list\n",
    "#     chunk_list.append(chunk)\n",
    "\n",
    "# # Concatenate the chunks into a single DataFrame\n",
    "# combined_df = pd.concat(chunk_list, ignore_index=True)\n",
    "\n",
    "# # Now you have a single DataFrame containing all the data from the JSON file\n",
    "# print(combined_df.head())\n"
   ]
  },
  {
   "cell_type": "code",
   "execution_count": 2,
   "metadata": {},
   "outputs": [],
   "source": [
    "df = pd.read_csv(r'E:\\Git Demo\\CDAC_Group_Project\\Project_dataset\\toys.csv')"
   ]
  },
  {
   "cell_type": "code",
   "execution_count": 6,
   "metadata": {},
   "outputs": [],
   "source": [
    "X = df['reviewText']\n",
    "y = df['class']"
   ]
  },
  {
   "cell_type": "code",
   "execution_count": 7,
   "metadata": {},
   "outputs": [],
   "source": [
    "# Tokenization\n",
    "max_words = 10000\n",
    "max_len = 1000\n",
    "tokenizer = Tokenizer(num_words=max_words)\n",
    "tokenizer.fit_on_texts(X)\n",
    "X = tokenizer.texts_to_sequences(X)\n",
    "X = pad_sequences(X, maxlen=max_len)"
   ]
  },
  {
   "cell_type": "code",
   "execution_count": 8,
   "metadata": {},
   "outputs": [],
   "source": [
    "# Train-test split\n",
    "X_train, X_test, y_train, y_test = train_test_split(X, y, test_size=0.2, random_state=42)"
   ]
  },
  {
   "cell_type": "code",
   "execution_count": 9,
   "metadata": {},
   "outputs": [],
   "source": [
    "# Model Building\n",
    "model = Sequential()\n",
    "model.add(Embedding(input_dim=max_words, output_dim=128, input_length=max_len))\n",
    "model.add(LSTM(64))\n",
    "model.add(Dense(1, activation='sigmoid'))"
   ]
  },
  {
   "cell_type": "code",
   "execution_count": 10,
   "metadata": {},
   "outputs": [],
   "source": [
    "# Compile Model\n",
    "model.compile(loss='binary_crossentropy', optimizer='adam', metrics=['accuracy'])"
   ]
  },
  {
   "cell_type": "code",
   "execution_count": 11,
   "metadata": {},
   "outputs": [
    {
     "name": "stdout",
     "output_type": "stream",
     "text": [
      "Epoch 1/5\n",
      "7500/7500 [==============================] - 438s 55ms/step - loss: 0.3131 - accuracy: 0.8696 - val_loss: 0.2793 - val_accuracy: 0.8888\n",
      "Epoch 2/5\n",
      "7500/7500 [==============================] - 402s 54ms/step - loss: 0.2488 - accuracy: 0.9008 - val_loss: 0.2620 - val_accuracy: 0.8932\n",
      "Epoch 3/5\n",
      "7500/7500 [==============================] - 411s 55ms/step - loss: 0.2151 - accuracy: 0.9155 - val_loss: 0.2645 - val_accuracy: 0.8967\n",
      "Epoch 4/5\n",
      "7500/7500 [==============================] - 400s 53ms/step - loss: 0.1868 - accuracy: 0.9282 - val_loss: 0.2763 - val_accuracy: 0.8928\n",
      "Epoch 5/5\n",
      "7500/7500 [==============================] - 404s 54ms/step - loss: 0.1599 - accuracy: 0.9399 - val_loss: 0.2950 - val_accuracy: 0.8891\n"
     ]
    },
    {
     "data": {
      "text/plain": [
       "<keras.callbacks.History at 0x24f9553dbb0>"
      ]
     },
     "execution_count": 11,
     "metadata": {},
     "output_type": "execute_result"
    }
   ],
   "source": [
    "# Model Training\n",
    "batch_size = 32\n",
    "epochs = 5\n",
    "model.fit(X_train, y_train, batch_size=batch_size, epochs=epochs, validation_data=(X_test, y_test))"
   ]
  },
  {
   "cell_type": "code",
   "execution_count": 13,
   "metadata": {},
   "outputs": [
    {
     "name": "stdout",
     "output_type": "stream",
     "text": [
      "{'loss': [0.3131032884120941, 0.24884700775146484, 0.21511177718639374, 0.18680591881275177, 0.15992087125778198], 'accuracy': [0.8696125149726868, 0.900783360004425, 0.9155083298683167, 0.9282125234603882, 0.9398999810218811], 'val_loss': [0.27933570742607117, 0.26199811697006226, 0.2644982933998108, 0.27634376287460327, 0.29495370388031006], 'val_accuracy': [0.8888333439826965, 0.8931666612625122, 0.8966500163078308, 0.8927833437919617, 0.889116644859314]}\n"
     ]
    }
   ],
   "source": [
    "print(model.history.history)\n",
    "loss_df = pd.DataFrame(model.history.history)"
   ]
  },
  {
   "cell_type": "code",
   "execution_count": 14,
   "metadata": {},
   "outputs": [
    {
     "name": "stdout",
     "output_type": "stream",
     "text": [
      "1875/1875 [==============================] - 46s 24ms/step - loss: 0.2950 - accuracy: 0.8891\n",
      "Test Accuracy: 0.889116644859314\n"
     ]
    }
   ],
   "source": [
    "# Model Evaluation\n",
    "loss, accuracy = model.evaluate(X_test, y_test)\n",
    "print(\"Test Accuracy:\", accuracy)"
   ]
  },
  {
   "cell_type": "code",
   "execution_count": 17,
   "metadata": {},
   "outputs": [
    {
     "data": {
      "text/html": [
       "<div>\n",
       "<style scoped>\n",
       "    .dataframe tbody tr th:only-of-type {\n",
       "        vertical-align: middle;\n",
       "    }\n",
       "\n",
       "    .dataframe tbody tr th {\n",
       "        vertical-align: top;\n",
       "    }\n",
       "\n",
       "    .dataframe thead th {\n",
       "        text-align: right;\n",
       "    }\n",
       "</style>\n",
       "<table border=\"1\" class=\"dataframe\">\n",
       "  <thead>\n",
       "    <tr style=\"text-align: right;\">\n",
       "      <th></th>\n",
       "      <th>loss</th>\n",
       "      <th>accuracy</th>\n",
       "      <th>val_loss</th>\n",
       "      <th>val_accuracy</th>\n",
       "    </tr>\n",
       "  </thead>\n",
       "  <tbody>\n",
       "    <tr>\n",
       "      <th>0</th>\n",
       "      <td>0.313103</td>\n",
       "      <td>0.869613</td>\n",
       "      <td>0.279336</td>\n",
       "      <td>0.888833</td>\n",
       "    </tr>\n",
       "    <tr>\n",
       "      <th>1</th>\n",
       "      <td>0.248847</td>\n",
       "      <td>0.900783</td>\n",
       "      <td>0.261998</td>\n",
       "      <td>0.893167</td>\n",
       "    </tr>\n",
       "    <tr>\n",
       "      <th>2</th>\n",
       "      <td>0.215112</td>\n",
       "      <td>0.915508</td>\n",
       "      <td>0.264498</td>\n",
       "      <td>0.896650</td>\n",
       "    </tr>\n",
       "    <tr>\n",
       "      <th>3</th>\n",
       "      <td>0.186806</td>\n",
       "      <td>0.928213</td>\n",
       "      <td>0.276344</td>\n",
       "      <td>0.892783</td>\n",
       "    </tr>\n",
       "    <tr>\n",
       "      <th>4</th>\n",
       "      <td>0.159921</td>\n",
       "      <td>0.939900</td>\n",
       "      <td>0.294954</td>\n",
       "      <td>0.889117</td>\n",
       "    </tr>\n",
       "  </tbody>\n",
       "</table>\n",
       "</div>"
      ],
      "text/plain": [
       "       loss  accuracy  val_loss  val_accuracy\n",
       "0  0.313103  0.869613  0.279336      0.888833\n",
       "1  0.248847  0.900783  0.261998      0.893167\n",
       "2  0.215112  0.915508  0.264498      0.896650\n",
       "3  0.186806  0.928213  0.276344      0.892783\n",
       "4  0.159921  0.939900  0.294954      0.889117"
      ]
     },
     "execution_count": 17,
     "metadata": {},
     "output_type": "execute_result"
    }
   ],
   "source": [
    "loss_df"
   ]
  },
  {
   "cell_type": "code",
   "execution_count": 19,
   "metadata": {},
   "outputs": [],
   "source": [
    "model.save_weights('LSTM_01_model_weights.h1')"
   ]
  }
 ],
 "metadata": {
  "kernelspec": {
   "display_name": "tf",
   "language": "python",
   "name": "python3"
  },
  "language_info": {
   "codemirror_mode": {
    "name": "ipython",
    "version": 3
   },
   "file_extension": ".py",
   "mimetype": "text/x-python",
   "name": "python",
   "nbconvert_exporter": "python",
   "pygments_lexer": "ipython3",
   "version": "3.9.18"
  }
 },
 "nbformat": 4,
 "nbformat_minor": 2
}

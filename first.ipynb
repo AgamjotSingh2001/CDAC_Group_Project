{
 "cells": [
  {
   "cell_type": "markdown",
   "metadata": {},
   "source": [
    "### Loading the dataset"
   ]
  },
  {
   "cell_type": "code",
   "execution_count": 1,
   "metadata": {},
   "outputs": [],
   "source": [
    "import pandas as pd\n",
    "import numpy as np"
   ]
  },
  {
   "cell_type": "code",
   "execution_count": 2,
   "metadata": {},
   "outputs": [],
   "source": [
    "data1 = pd.read_json(\"Amazon Dataset/Cell_Phones_and_Accessories/Cell_Phones_and_Accessories.json\",lines=True,nrows=100000)\n",
    "data2 = pd.read_json(\"Amazon Dataset/Clothing_Shoes_and_Jewelry/Clothing_Shoes_and_Jewelry.json\",lines=True,nrows=100000)\n",
    "data3 = pd.read_json(\"Amazon Dataset/Electronics/Electronics.json\",lines=True,nrows=100000)\n",
    "data4 = pd.read_json(\"Amazon Dataset/Home_and_Kitchen/Home_and_Kitchen.json\",lines=True,nrows=100000)\n",
    "data5 = pd.read_json(\"Amazon Dataset/Toys_and_Games/Toys_and_Games.json\",lines=True,nrows=100000)"
   ]
  },
  {
   "cell_type": "code",
   "execution_count": 3,
   "metadata": {},
   "outputs": [],
   "source": [
    "data = pd.concat([data1,data2,data3,data4,data5],axis=0)"
   ]
  },
  {
   "cell_type": "code",
   "execution_count": 4,
   "metadata": {},
   "outputs": [
    {
     "data": {
      "text/plain": [
       "(500000, 12)"
      ]
     },
     "execution_count": 4,
     "metadata": {},
     "output_type": "execute_result"
    }
   ],
   "source": [
    "data.shape"
   ]
  },
  {
   "cell_type": "code",
   "execution_count": 5,
   "metadata": {},
   "outputs": [
    {
     "name": "stdout",
     "output_type": "stream",
     "text": [
      "<class 'pandas.core.frame.DataFrame'>\n",
      "Index: 500000 entries, 0 to 99999\n",
      "Data columns (total 12 columns):\n",
      " #   Column          Non-Null Count   Dtype \n",
      "---  ------          --------------   ----- \n",
      " 0   _id             500000 non-null  object\n",
      " 1   reviewerID      500000 non-null  object\n",
      " 2   asin            500000 non-null  object\n",
      " 3   reviewerName    497759 non-null  object\n",
      " 4   helpful         500000 non-null  object\n",
      " 5   reviewText      500000 non-null  object\n",
      " 6   overall         500000 non-null  int64 \n",
      " 7   summary         500000 non-null  object\n",
      " 8   unixReviewTime  500000 non-null  int64 \n",
      " 9   reviewTime      500000 non-null  object\n",
      " 10  category        500000 non-null  object\n",
      " 11  class           500000 non-null  int64 \n",
      "dtypes: int64(3), object(9)\n",
      "memory usage: 49.6+ MB\n"
     ]
    }
   ],
   "source": [
    "data.info()"
   ]
  },
  {
   "cell_type": "code",
   "execution_count": 6,
   "metadata": {},
   "outputs": [],
   "source": [
    "data.drop(['unixReviewTime','reviewTime','reviewerID','asin','reviewerName','helpful'],axis=1,inplace=True)"
   ]
  },
  {
   "cell_type": "code",
   "execution_count": 7,
   "metadata": {},
   "outputs": [
    {
     "data": {
      "text/html": [
       "<div>\n",
       "<style scoped>\n",
       "    .dataframe tbody tr th:only-of-type {\n",
       "        vertical-align: middle;\n",
       "    }\n",
       "\n",
       "    .dataframe tbody tr th {\n",
       "        vertical-align: top;\n",
       "    }\n",
       "\n",
       "    .dataframe thead th {\n",
       "        text-align: right;\n",
       "    }\n",
       "</style>\n",
       "<table border=\"1\" class=\"dataframe\">\n",
       "  <thead>\n",
       "    <tr style=\"text-align: right;\">\n",
       "      <th></th>\n",
       "      <th>_id</th>\n",
       "      <th>reviewText</th>\n",
       "      <th>overall</th>\n",
       "      <th>summary</th>\n",
       "      <th>category</th>\n",
       "      <th>class</th>\n",
       "    </tr>\n",
       "  </thead>\n",
       "  <tbody>\n",
       "    <tr>\n",
       "      <th>0</th>\n",
       "      <td>{'$oid': '5a1321d5741a2384e802c552'}</td>\n",
       "      <td>Best phone case ever . Everywhere I go I get a...</td>\n",
       "      <td>5</td>\n",
       "      <td>A++++</td>\n",
       "      <td>Cell_Phones_and_Accessories</td>\n",
       "      <td>1</td>\n",
       "    </tr>\n",
       "    <tr>\n",
       "      <th>1</th>\n",
       "      <td>{'$oid': '5a1321d5741a2384e802c557'}</td>\n",
       "      <td>ITEM NOT SENT from Blue Top Company in Hong Ko...</td>\n",
       "      <td>1</td>\n",
       "      <td>ITEM NOT SENT!!</td>\n",
       "      <td>Cell_Phones_and_Accessories</td>\n",
       "      <td>0</td>\n",
       "    </tr>\n",
       "    <tr>\n",
       "      <th>2</th>\n",
       "      <td>{'$oid': '5a1321d5741a2384e802c550'}</td>\n",
       "      <td>Saw this same case at a theme park store for 2...</td>\n",
       "      <td>5</td>\n",
       "      <td>Great product</td>\n",
       "      <td>Cell_Phones_and_Accessories</td>\n",
       "      <td>1</td>\n",
       "    </tr>\n",
       "    <tr>\n",
       "      <th>3</th>\n",
       "      <td>{'$oid': '5a1321d5741a2384e802c553'}</td>\n",
       "      <td>case fits perfectly and I always gets complime...</td>\n",
       "      <td>5</td>\n",
       "      <td>Perfect</td>\n",
       "      <td>Cell_Phones_and_Accessories</td>\n",
       "      <td>1</td>\n",
       "    </tr>\n",
       "    <tr>\n",
       "      <th>4</th>\n",
       "      <td>{'$oid': '5a1321d5741a2384e802c559'}</td>\n",
       "      <td>I got this for my 14 year old sister.  She lov...</td>\n",
       "      <td>4</td>\n",
       "      <td>Cool purchase.</td>\n",
       "      <td>Cell_Phones_and_Accessories</td>\n",
       "      <td>1</td>\n",
       "    </tr>\n",
       "  </tbody>\n",
       "</table>\n",
       "</div>"
      ],
      "text/plain": [
       "                                    _id  \\\n",
       "0  {'$oid': '5a1321d5741a2384e802c552'}   \n",
       "1  {'$oid': '5a1321d5741a2384e802c557'}   \n",
       "2  {'$oid': '5a1321d5741a2384e802c550'}   \n",
       "3  {'$oid': '5a1321d5741a2384e802c553'}   \n",
       "4  {'$oid': '5a1321d5741a2384e802c559'}   \n",
       "\n",
       "                                          reviewText  overall  \\\n",
       "0  Best phone case ever . Everywhere I go I get a...        5   \n",
       "1  ITEM NOT SENT from Blue Top Company in Hong Ko...        1   \n",
       "2  Saw this same case at a theme park store for 2...        5   \n",
       "3  case fits perfectly and I always gets complime...        5   \n",
       "4  I got this for my 14 year old sister.  She lov...        4   \n",
       "\n",
       "           summary                     category  class  \n",
       "0            A++++  Cell_Phones_and_Accessories      1  \n",
       "1  ITEM NOT SENT!!  Cell_Phones_and_Accessories      0  \n",
       "2    Great product  Cell_Phones_and_Accessories      1  \n",
       "3          Perfect  Cell_Phones_and_Accessories      1  \n",
       "4   Cool purchase.  Cell_Phones_and_Accessories      1  "
      ]
     },
     "execution_count": 7,
     "metadata": {},
     "output_type": "execute_result"
    }
   ],
   "source": [
    "data.head()"
   ]
  },
  {
   "cell_type": "code",
   "execution_count": 8,
   "metadata": {},
   "outputs": [],
   "source": [
    "col=['id','review','rating','summary','category','class']\n",
    "data.columns=col"
   ]
  },
  {
   "cell_type": "code",
   "execution_count": 9,
   "metadata": {},
   "outputs": [
    {
     "data": {
      "text/html": [
       "<div>\n",
       "<style scoped>\n",
       "    .dataframe tbody tr th:only-of-type {\n",
       "        vertical-align: middle;\n",
       "    }\n",
       "\n",
       "    .dataframe tbody tr th {\n",
       "        vertical-align: top;\n",
       "    }\n",
       "\n",
       "    .dataframe thead th {\n",
       "        text-align: right;\n",
       "    }\n",
       "</style>\n",
       "<table border=\"1\" class=\"dataframe\">\n",
       "  <thead>\n",
       "    <tr style=\"text-align: right;\">\n",
       "      <th></th>\n",
       "      <th>id</th>\n",
       "      <th>review</th>\n",
       "      <th>rating</th>\n",
       "      <th>summary</th>\n",
       "      <th>category</th>\n",
       "      <th>class</th>\n",
       "    </tr>\n",
       "  </thead>\n",
       "  <tbody>\n",
       "    <tr>\n",
       "      <th>0</th>\n",
       "      <td>{'$oid': '5a1321d5741a2384e802c552'}</td>\n",
       "      <td>Best phone case ever . Everywhere I go I get a...</td>\n",
       "      <td>5</td>\n",
       "      <td>A++++</td>\n",
       "      <td>Cell_Phones_and_Accessories</td>\n",
       "      <td>1</td>\n",
       "    </tr>\n",
       "    <tr>\n",
       "      <th>1</th>\n",
       "      <td>{'$oid': '5a1321d5741a2384e802c557'}</td>\n",
       "      <td>ITEM NOT SENT from Blue Top Company in Hong Ko...</td>\n",
       "      <td>1</td>\n",
       "      <td>ITEM NOT SENT!!</td>\n",
       "      <td>Cell_Phones_and_Accessories</td>\n",
       "      <td>0</td>\n",
       "    </tr>\n",
       "    <tr>\n",
       "      <th>2</th>\n",
       "      <td>{'$oid': '5a1321d5741a2384e802c550'}</td>\n",
       "      <td>Saw this same case at a theme park store for 2...</td>\n",
       "      <td>5</td>\n",
       "      <td>Great product</td>\n",
       "      <td>Cell_Phones_and_Accessories</td>\n",
       "      <td>1</td>\n",
       "    </tr>\n",
       "    <tr>\n",
       "      <th>3</th>\n",
       "      <td>{'$oid': '5a1321d5741a2384e802c553'}</td>\n",
       "      <td>case fits perfectly and I always gets complime...</td>\n",
       "      <td>5</td>\n",
       "      <td>Perfect</td>\n",
       "      <td>Cell_Phones_and_Accessories</td>\n",
       "      <td>1</td>\n",
       "    </tr>\n",
       "    <tr>\n",
       "      <th>4</th>\n",
       "      <td>{'$oid': '5a1321d5741a2384e802c559'}</td>\n",
       "      <td>I got this for my 14 year old sister.  She lov...</td>\n",
       "      <td>4</td>\n",
       "      <td>Cool purchase.</td>\n",
       "      <td>Cell_Phones_and_Accessories</td>\n",
       "      <td>1</td>\n",
       "    </tr>\n",
       "  </tbody>\n",
       "</table>\n",
       "</div>"
      ],
      "text/plain": [
       "                                     id  \\\n",
       "0  {'$oid': '5a1321d5741a2384e802c552'}   \n",
       "1  {'$oid': '5a1321d5741a2384e802c557'}   \n",
       "2  {'$oid': '5a1321d5741a2384e802c550'}   \n",
       "3  {'$oid': '5a1321d5741a2384e802c553'}   \n",
       "4  {'$oid': '5a1321d5741a2384e802c559'}   \n",
       "\n",
       "                                              review  rating          summary  \\\n",
       "0  Best phone case ever . Everywhere I go I get a...       5            A++++   \n",
       "1  ITEM NOT SENT from Blue Top Company in Hong Ko...       1  ITEM NOT SENT!!   \n",
       "2  Saw this same case at a theme park store for 2...       5    Great product   \n",
       "3  case fits perfectly and I always gets complime...       5          Perfect   \n",
       "4  I got this for my 14 year old sister.  She lov...       4   Cool purchase.   \n",
       "\n",
       "                      category  class  \n",
       "0  Cell_Phones_and_Accessories      1  \n",
       "1  Cell_Phones_and_Accessories      0  \n",
       "2  Cell_Phones_and_Accessories      1  \n",
       "3  Cell_Phones_and_Accessories      1  \n",
       "4  Cell_Phones_and_Accessories      1  "
      ]
     },
     "execution_count": 9,
     "metadata": {},
     "output_type": "execute_result"
    }
   ],
   "source": [
    "data.head()"
   ]
  },
  {
   "cell_type": "code",
   "execution_count": 20,
   "metadata": {},
   "outputs": [],
   "source": [
    "data.id =data.id.apply(lambda x: x['$oid'])"
   ]
  },
  {
   "cell_type": "code",
   "execution_count": 32,
   "metadata": {},
   "outputs": [
    {
     "data": {
      "text/plain": [
       "category\n",
       "Cell_Phones_and_Accessories    66045\n",
       "Clothing_Shoes_and_Jewelry     80292\n",
       "Electronics                    77176\n",
       "Home_and_Kitchen               81660\n",
       "Toys_and_Games                 86465\n",
       "Name: class, dtype: int64"
      ]
     },
     "execution_count": 32,
     "metadata": {},
     "output_type": "execute_result"
    }
   ],
   "source": [
    "data.groupby('category')['class'].sum()"
   ]
  },
  {
   "cell_type": "markdown",
   "metadata": {},
   "source": [
    "### Installing the Transformers"
   ]
  },
  {
   "cell_type": "code",
   "execution_count": 11,
   "metadata": {},
   "outputs": [],
   "source": [
    "#!pip install transformers\n"
   ]
  },
  {
   "cell_type": "markdown",
   "metadata": {},
   "source": [
    "### Importing the Dependencies"
   ]
  },
  {
   "cell_type": "code",
   "execution_count": 12,
   "metadata": {},
   "outputs": [],
   "source": [
    "#from transformers import pipeline"
   ]
  },
  {
   "cell_type": "code",
   "execution_count": 13,
   "metadata": {},
   "outputs": [],
   "source": [
    "#loading the summarization pipeline\n",
    "#this is a pretrained summarization pipeline\n",
    "#summarizer = pipeline('summarization')"
   ]
  },
  {
   "cell_type": "code",
   "execution_count": null,
   "metadata": {},
   "outputs": [],
   "source": []
  }
 ],
 "metadata": {
  "kernelspec": {
   "display_name": "base",
   "language": "python",
   "name": "python3"
  },
  "language_info": {
   "codemirror_mode": {
    "name": "ipython",
    "version": 3
   },
   "file_extension": ".py",
   "mimetype": "text/x-python",
   "name": "python",
   "nbconvert_exporter": "python",
   "pygments_lexer": "ipython3",
   "version": "3.11.5"
  }
 },
 "nbformat": 4,
 "nbformat_minor": 2
}
